{
 "cells": [
  {
   "cell_type": "code",
   "execution_count": 1,
   "metadata": {},
   "outputs": [],
   "source": [
    "import numpy as np\n",
    "import cmath\n",
    "# Importing standard Qiskit libraries\n",
    "from qiskit.quantum_info import Statevector, random_statevector\n",
    "from qiskit import QuantumCircuit, transpile, Aer, IBMQ, assemble, execute\n",
    "from qiskit.tools.jupyter import *\n",
    "from qiskit.visualization import *\n",
    "from ibm_quantum_widgets import *\n",
    "\n",
    "from qiskit.extensions import Initialize\n",
    "# Loading your IBM Quantum account(s)\n",
    "provider = IBMQ.load_account()\n",
    "\n",
    "import sys\n",
    "sys.path.insert(0, '/home/jovyan/exercises_levels/Gates_and_Circuits/Single Qubit Gates/Level_1_Single_Qubit_Gates')\n",
    "from Check_level_1_gates import *\n",
    "import warnings\n",
    "warnings.filterwarnings('ignore')"
   ]
  },
  {
   "cell_type": "markdown",
   "metadata": {},
   "source": [
    "## 1. Basic Rotations on One Qubit and Measurements on the Bloch Sphere\n",
    "\n",
    "Before getting into complicated circuits on many qubits, let us start by looking at a single qubit. Read this chapter: https://qiskit.org/textbook/ch-states/introduction.html to learn the basics about the Bloch sphere, Pauli operators, as well as the Hadamard gate and the $S$ and $S^\\dagger$ gates. \n",
    "\n",
    "By default, states in qiskit start in $|0\\rangle$, which corresponds to \"arrow up\" on the Bloch sphere. Play around with the gates $X$, $Y$, $Z$, $H$, $S$ and $S^\\dagger$ to get a feeling for the different rotations. To do so, insert combinations of the following code lines in the lines indicated in the program:\n",
    "\n",
    "    qc.x(0)    # rotation by Pi around the x-axis\n",
    "    qc.y(0)    # rotation by Pi around the y-axis\n",
    "    qc.z(0)    # rotation by Pi around the z-axis\n",
    "    qc.s(0)    # rotation by Pi/2 around the z-axis\n",
    "    qc.sdg(0)  # rotation by -Pi/2 around the z-axis\n",
    "    qc.h(0)    # rotation by Pi around an axis located halfway between x and z\n",
    "\n",
    "Try to reach the given state in the Bloch sphere in each of the following exercises. (Press Shift + Enter to run a code cell)\n",
    "\n",
    "<b> 1.) Let us start easy by performing a bit flip. The goal is to reach the state $|1\\rangle$. <img src='state1.png' width=\"200\">"
   ]
  },
  {
   "cell_type": "code",
   "execution_count": null,
   "metadata": {},
   "outputs": [],
   "source": [
    "qc = QuantumCircuit(1)\n",
    "#delete\n",
    "#\n",
    "#\n",
    "# FILL YOUR CODE IN HERE\n",
    "#\n",
    "#\n",
    "#\n",
    "#\n",
    "ex1_validation(qc)\n",
    "state = Statevector.from_instruction(qc)\n",
    "plot_bloch_multivector(state)\n",
    "\n"
   ]
  },
  {
   "cell_type": "markdown",
   "metadata": {},
   "source": [
    " <b> 2.) Next, we would like to create superposition. The goal is to reach the state $|+\\rangle = \\frac{1}{\\sqrt{2}}\\left(|0\\rangle + |1\\rangle\\right)$. <img src='state+.png' width=\"200\">"
   ]
  },
  {
   "cell_type": "code",
   "execution_count": null,
   "metadata": {},
   "outputs": [],
   "source": [
    "qc = QuantumCircuit(1)\n",
    "#\n",
    "#\n",
    "#\n",
    "# FILL YOUR CODE IN HERE\n",
    "#\n",
    "#\n",
    "ex2_validation(qc)\n",
    "state = Statevector.from_instruction(qc)\n",
    "plot_bloch_multivector(state)\n"
   ]
  },
  {
   "cell_type": "markdown",
   "metadata": {},
   "source": [
    " <b> 3.) For this exercise the goal is to reach the state $|-\\rangle = \\frac{1}{\\sqrt{2}}\\left(|0\\rangle - |1\\rangle\\right)$. Can you do that with any of the gates in Qiskit or do you need more than one? <img src='state-.png' width=\"200\">"
   ]
  },
  {
   "cell_type": "code",
   "execution_count": null,
   "metadata": {},
   "outputs": [],
   "source": [
    "qc = QuantumCircuit(1)\n",
    "#\n",
    "#\n",
    "# FILL YOUR CODE IN HERE\n",
    "#\n",
    "#\n",
    "ex3_validation(qc)\n",
    "state = Statevector.from_instruction(qc)\n",
    "plot_bloch_multivector(state)"
   ]
  },
  {
   "cell_type": "markdown",
   "metadata": {},
   "source": [
    "## 2. Measurements\n",
    "\n",
    "In order to measure our results we need to store the quantum information in classical bits. We do this by writing a Quantum Circuit: `QuantumCircuit(m,n)`. Where `m` respresent the qubits and `n` the classical bits. These bits can then be read out during multiple runs, these then gives us a statistical representation of our quantum state. (In this exercise set we consider `m` and `n` to be `1`.)"
   ]
  },
  {
   "cell_type": "markdown",
   "metadata": {},
   "source": [
    "<b> 1.) Measure the state below\n",
    "    <img src='meas_state.png' width=\"200\">"
   ]
  },
  {
   "cell_type": "code",
   "execution_count": null,
   "metadata": {},
   "outputs": [],
   "source": [
    "qc=QuantumCircuit(1,1)\n",
    "qc.u3(np.pi/4,np.pi/4,np.pi/4,0)\n",
    "\n",
    "\n",
    "#\n",
    "# FILL YOUR CODE IN HERE\n",
    "#\n",
    "#\n",
    "#\n",
    "\n",
    "\n",
    "\n",
    "backend = Aer.get_backend('qasm_simulator') # we choose the simulator as our backend\n",
    "Counts = execute(qc, backend, shots = 1024,  seed_simulator=312).result().get_counts() # we run the simulation and get the counts\n",
    "plot_histogram(Counts) # let us plot a histogram to see the possible outcomes and corresponding probabilities\n",
    "ex4_validation(Counts)"
   ]
  },
  {
   "cell_type": "markdown",
   "metadata": {},
   "source": [
    "## <i>Bonus: Tomography</i>\n",
    " \n",
    " \n",
    " From the exercise at the top it can me made clear to simply doing a measurement in the $ \\{ |0\\rangle,|1\\rangle\\} $-basis will not tell you in which state you were exactly. It will give you at best the projection on this basis. This means that you will lose crucial information about the phase of your qubit. In this bonus exercise we will perform a process called 'state tomography'. Here instead of performing measurements in the $ \\{ |0\\rangle,|1\\rangle\\} $-basis, we will also measure the projection of the state in the $ \\{ |+\\rangle,|-\\rangle\\} $ and the $ \\{ |+y\\rangle,|-y\\rangle\\} $- basis. \n",
    " \n",
    " You will be give a random state using the `random_state` command"
   ]
  },
  {
   "cell_type": "code",
   "execution_count": null,
   "metadata": {},
   "outputs": [],
   "source": [
    "psi = random_statevector(2, seed=11)\n",
    "init_gate = Initialize(psi)\n",
    "init_gate.label = \"Random State\"\n",
    "\n",
    "\n",
    "\n",
    "## Measure the state in the x,y,z basis and make a guess for the state_vector psi\n",
    "\n",
    "#Measure in all three different bases\n",
    "\n",
    "\n",
    "\n",
    "\n",
    "#Put your answer here\n",
    "#Try to remove any global phase in your answer\n",
    "phi=\n",
    "theta=\n",
    "\n",
    "\n",
    "\n",
    "bonus_validation([phi, theta])\n",
    "\n",
    "\n"
   ]
  },
  {
   "cell_type": "markdown",
   "metadata": {},
   "source": [
    "Find the two angles such that the state can be written as:\n",
    "$$\n",
    "|\\psi\\rangle = \\begin{pmatrix}\n",
    " \\cos(\\theta/2)\\\\\n",
    " e^{i\\phi}\\sin(\\theta/2)\n",
    "\\end{pmatrix}\n",
    "$$"
   ]
  },
  {
   "cell_type": "code",
   "execution_count": null,
   "metadata": {},
   "outputs": [],
   "source": []
  },
  {
   "cell_type": "code",
   "execution_count": null,
   "metadata": {},
   "outputs": [],
   "source": [
    "angles : [phi,theta]\n"
   ]
  },
  {
   "cell_type": "code",
   "execution_count": null,
   "metadata": {},
   "outputs": [],
   "source": []
  }
 ],
 "metadata": {
  "kernelspec": {
   "display_name": "Python 3",
   "language": "python",
   "name": "python3"
  },
  "language_info": {
   "codemirror_mode": {
    "name": "ipython",
    "version": 3
   },
   "file_extension": ".py",
   "mimetype": "text/x-python",
   "name": "python",
   "nbconvert_exporter": "python",
   "pygments_lexer": "ipython3",
   "version": "3.8.5"
  },
  "widgets": {
   "application/vnd.jupyter.widget-state+json": {
    "state": {},
    "version_major": 2,
    "version_minor": 0
   }
  }
 },
 "nbformat": 4,
 "nbformat_minor": 5
}
