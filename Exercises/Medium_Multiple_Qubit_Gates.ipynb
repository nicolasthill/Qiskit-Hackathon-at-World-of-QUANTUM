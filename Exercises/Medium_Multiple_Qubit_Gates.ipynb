{
 "cells": [
  {
   "cell_type": "code",
   "execution_count": 74,
   "metadata": {},
   "outputs": [
    {
     "name": "stderr",
     "output_type": "stream",
     "text": [
      "ibmqfactory.load_account:WARNING:2021-07-14 14:47:32,748: Credentials are already in use. The existing account in the session will be replaced.\n"
     ]
    }
   ],
   "source": [
    "import numpy as np\n",
    "from qiskit_textbook.tools import random_state\n",
    "# Importing standard Qiskit libraries\n",
    "from qiskit import QuantumCircuit,QuantumRegister, ClassicalRegister, transpile, Aer, IBMQ, assemble, execute\n",
    "from qiskit.tools.jupyter import *\n",
    "from qiskit.visualization import *\n",
    "from ibm_quantum_widgets import *\n",
    "from qiskit_textbook.tools import random_state\n",
    "from qiskit.extensions import Initialize\n",
    "from qiskit.providers.aer.noise import NoiseModel\n",
    "import qiskit.quantum_info as qi\n",
    "\n",
    "# Loading your IBM Quantum account(s)\n",
    "provider = IBMQ.load_account()"
   ]
  },
  {
   "cell_type": "markdown",
   "metadata": {},
   "source": [
    "## Multi-Qubit Gates: Teleportation Protocol"
   ]
  },
  {
   "cell_type": "markdown",
   "metadata": {},
   "source": [
    "In these exercises we will build a so called '<i> Bell Measurement </i>'. This means that we project a state onto the four Bell states:\n",
    "\n",
    "$$\n",
    "|\\psi^{00}\\rangle=\\frac{1}{2}(|00\\rangle + |11\\rangle)\n",
    "$$\n",
    "\n",
    "$$\n",
    "|\\psi^{01}\\rangle=\\frac{1}{2}(|00\\rangle - |11\\rangle)\n",
    "$$\n",
    "\n",
    "$$\n",
    "|\\psi^{10}\\rangle=\\frac{1}{2}(|10\\rangle + |01\\rangle)\n",
    "$$\n",
    "\n",
    "$$\n",
    "|\\psi^{11}\\rangle=\\frac{1}{2}(|10\\rangle - |01\\rangle)\n",
    "$$\n",
    "\n",
    "We start with the situation where we consdir the usual suspects Alice and Bob. Bob wants to send his quantum state $\\phi$ to Alice. The problem however is that Alice and Bob only share a classical channel (e.g. a phone) and a Bell state. (take $|\\psi^{00}\\rangle=\\frac{1}{2}\\big(|00\\rangle + |11\\rangle\\big)$  )\n",
    "\n",
    "In the coming exercise we will consider how Bob can send his state to alice with the use of multi-qubit gates."
   ]
  },
  {
   "cell_type": "markdown",
   "metadata": {},
   "source": [
    "For the coming exercise we consider $q_0$ to be Alice's qubit, which is entangled with  $q_1$  on Bob's side. The state we want to teleport is encoded on $q_2$ . "
   ]
  },
  {
   "cell_type": "code",
   "execution_count": 5,
   "metadata": {},
   "outputs": [],
   "source": [
    "qr = QuantumRegister(3, name=\"q\")    # Protocol uses 3 qubits\n",
    "crz = ClassicalRegister(1, name=\"crz\") # and 2 classical bits\n",
    "crx = ClassicalRegister(1, name=\"crx\") # in 2 different register\n",
    "teleportation_circuit = QuantumCircuit(qr, crz, crx)\n"
   ]
  },
  {
   "cell_type": "markdown",
   "metadata": {},
   "source": [
    "<b>1.) Produce the Bell state: $|\\psi^{00}\\rangle$ between qubit $q_0$ and $q_1$."
   ]
  },
  {
   "cell_type": "code",
   "execution_count": 6,
   "metadata": {},
   "outputs": [],
   "source": [
    "def psi_00(circuit, q1, q2):\n",
    "    # FILL YOUR CODE HERE\n",
    "\n",
    "\n"
   ]
  },
  {
   "cell_type": "markdown",
   "metadata": {},
   "source": [
    "<b>2.) Read out $q_1$ and $q_2$ in the Bell basis.</b> (This means that we want to obtain $xz$ from $|\\psi^{xz}\\rangle$ ). Store the outcomes in the classical registers $z \\rightarrow$ `crz` and $x \\rightarrow$`crx`."
   ]
  },
  {
   "cell_type": "code",
   "execution_count": 7,
   "metadata": {},
   "outputs": [],
   "source": [
    "def Bell_measurement(circuit, q1, q2,crx, crz):\n",
    "    # FILL YOUR CODE HERE\n",
    "\n",
    "    \n",
    "    \n"
   ]
  },
  {
   "cell_type": "markdown",
   "metadata": {},
   "source": [
    "<b> 3.) Now Bob sends his found $xz$ to Alice. She, on her turn applies to following conditional gates on here qubit $q_0$: $X^xZ^z$ </b> hint: Make use of the `c_if` gate\n",
    "    "
   ]
  },
  {
   "cell_type": "code",
   "execution_count": 8,
   "metadata": {},
   "outputs": [],
   "source": [
    "def conditional_gates(circuit, q0, crx, crz):\n",
    "    # FILL YOUR CODE HERE\n"
   ]
  },
  {
   "cell_type": "markdown",
   "metadata": {},
   "source": [
    "Now we bring the circuit together:"
   ]
  },
  {
   "cell_type": "code",
   "execution_count": 10,
   "metadata": {},
   "outputs": [
    {
     "data": {
      "image/png": "[encoded data removed]",
      "text/plain": [
       "<Figure size 694.51x325.08 with 1 Axes>"
      ]
     },
     "execution_count": 10,
     "metadata": {},
     "output_type": "execute_result"
    }
   ],
   "source": [
    "qr = QuantumRegister(3, name=\"q\")    # Protocol uses 3 qubits\n",
    "crz, crx = ClassicalRegister(1, name=\"crz\"), ClassicalRegister(1, name=\"crx\") #Classical Registers\n",
    "teleportation_circuit = QuantumCircuit(qr, crz, crx)\n",
    "\n",
    "\n",
    "#STEP 1:  Create the Bell state between q0 and q1\n",
    "psi_00(teleportation_circuit, 0, 1 )\n",
    "\n",
    "#STEP 2: Bell Measurement\n",
    "teleportation_circuit.barrier()\n",
    "Bell_measurement(teleportation_circuit, 1, 2, crx, crz)\n",
    "\n",
    "#STEP 3: Conditional Gates\n",
    "teleportation_circuit.barrier()\n",
    "conditional_gates(teleportation_circuit,0, crx, crz)\n",
    "teleportation_circuit.draw()\n"
   ]
  },
  {
   "cell_type": "markdown",
   "metadata": {},
   "source": [
    "<b> 4.) Bonus: Check how good teleportation works on actual hardward by considering the fidelity "
   ]
  },
  {
   "cell_type": "code",
   "execution_count": 32,
   "metadata": {},
   "outputs": [],
   "source": [
    "def new_conditional_gates(circuit, q0):\n",
    "    # FILL YOUR CODE HERE\n",
    "\n",
    "\n",
    "def new_Bell_measurement(circuit, q1, q2):\n",
    "    # FILL YOUR CODE HERE\n",
    "\n",
    "\n",
    "    \n",
    "inverse_init_gate = init_gate.gates_to_uncompute()"
   ]
  },
  {
   "cell_type": "code",
   "execution_count": 92,
   "metadata": {},
   "outputs": [
    {
     "data": {
      "image/png": "[encoded data removed]",
      "text/plain": [
       "<Figure size 908.721x264.88 with 1 Axes>"
      ]
     },
     "execution_count": 92,
     "metadata": {},
     "output_type": "execute_result"
    }
   ],
   "source": [
    "psi = random_state(1)\n",
    "init_gate = Initialize(psi)\n",
    "init_gate.label = \"init\"\n",
    "\n",
    "qr = QuantumRegister(3)    # Protocol uses 3 qubits\n",
    "cr=ClassicalRegister(1)\n",
    "teleportation_circuit = QuantumCircuit(qr, cr)\n",
    "\n",
    "\n",
    "# STEP 0: let's initialize Bob's q2\n",
    "teleportation_circuit.append(init_gate, [2])\n",
    "teleportation_circuit.barrier()\n",
    "\n",
    "#STEP 1:  Create the Bell state between q0 and q1\n",
    "psi_00(teleportation_circuit, 0, 1 )\n",
    "\n",
    "#STEP 2: Bell Measurement\n",
    "teleportation_circuit.barrier()\n",
    "new_Bell_measurement(teleportation_circuit, 1, 2)\n",
    "\n",
    "#STEP 3: Conditional Gates\n",
    "teleportation_circuit.barrier()\n",
    "new_conditional_gates(teleportation_circuit,0)\n",
    "\n",
    "# teleportation_circuit.append(inverse_init_gate, [0])\n",
    "teleportation_circuit.measure(0,0)\n",
    "teleportation_circuit.draw()"
   ]
  },
  {
   "cell_type": "code",
   "execution_count": 98,
   "metadata": {},
   "outputs": [
    {
     "data": {
      "image/png": "[encoded data removed]",
      "text/plain": [
       "<Figure size 504x360 with 1 Axes>"
      ]
     },
     "execution_count": 98,
     "metadata": {},
     "output_type": "execute_result"
    }
   ],
   "source": [
    "# Build noise model from backend properties\n",
    "# provider = IBMQ.load_account()\n",
    "backend = provider.get_backend('ibmq_belem')\n",
    "noise_model = NoiseModel.from_backend(backend)\n",
    "\n",
    "# Get coupling map from backend\n",
    "coupling_map = backend.configuration().coupling_map\n",
    "\n",
    "# Get basis gates from noise model\n",
    "basis_gates = noise_model.basis_gates\n",
    "\n",
    "# Perform a noise simulation\n",
    "result = execute(teleportation_circuit, Aer.get_backend('qasm_simulator'),\n",
    "                 coupling_map=coupling_map,\n",
    "                 basis_gates=basis_gates,\n",
    "                 noise_model=noise_model).result()\n",
    "counts = result.get_counts()\n",
    "plot_histogram(counts)\n",
    "\n",
    "#Without Noise Model\n",
    "# backend = provider.get_backend('aer_simulator')\n",
    "result = execute(teleportation_circuit, Aer.get_backend('qasm_simulator'),\n",
    "                 coupling_map=coupling_map).result()\n",
    "counts2 = result.get_counts()\n",
    "plot_histogram(counts2)\n",
    "\n",
    "# FILL YOUR CODE HERE to calculate fidelity\n",
    "\n",
    "\n",
    "\n"
   ]
  },
  {
   "cell_type": "code",
   "execution_count": 99,
   "metadata": {},
   "outputs": [
    {
     "data": {
      "image/png": "[encoded data removed]",
      "text/plain": [
       "<Figure size 504x360 with 1 Axes>"
      ]
     },
     "execution_count": 99,
     "metadata": {},
     "output_type": "execute_result"
    }
   ],
   "source": [
    "plot_histogram(counts)"
   ]
  },
  {
   "cell_type": "code",
   "execution_count": 78,
   "metadata": {},
   "outputs": [
    {
     "name": "stdout",
     "output_type": "stream",
     "text": [
      "[ 5.00000000e-01+7.49400542e-16j  5.00000000e-01+2.77555756e-16j\n",
      "  5.00000000e-01+2.22044605e-16j  5.00000000e-01-2.22044605e-16j\n",
      "  9.86076132e-32+2.35513869e-16j -3.92523115e-17+2.74766180e-16j\n",
      " -7.39557099e-32-1.57009246e-16j -7.39557099e-32-1.57009246e-16j\n",
      "  0.00000000e+00+0.00000000e+00j  0.00000000e+00+0.00000000e+00j\n",
      "  0.00000000e+00+0.00000000e+00j  0.00000000e+00+0.00000000e+00j\n",
      "  0.00000000e+00+0.00000000e+00j  0.00000000e+00+0.00000000e+00j\n",
      "  0.00000000e+00+0.00000000e+00j  0.00000000e+00+0.00000000e+00j\n",
      "  0.00000000e+00+0.00000000e+00j  0.00000000e+00+0.00000000e+00j\n",
      "  0.00000000e+00+0.00000000e+00j  0.00000000e+00+0.00000000e+00j\n",
      "  0.00000000e+00+0.00000000e+00j  0.00000000e+00+0.00000000e+00j\n",
      "  0.00000000e+00+0.00000000e+00j  0.00000000e+00+0.00000000e+00j\n",
      "  0.00000000e+00+0.00000000e+00j  0.00000000e+00+0.00000000e+00j\n",
      "  0.00000000e+00+0.00000000e+00j  0.00000000e+00+0.00000000e+00j\n",
      "  0.00000000e+00+0.00000000e+00j  0.00000000e+00+0.00000000e+00j\n",
      "  0.00000000e+00+0.00000000e+00j  0.00000000e+00+0.00000000e+00j]\n"
     ]
    }
   ],
   "source": [
    "print(state1)"
   ]
  },
  {
   "cell_type": "code",
   "execution_count": null,
   "metadata": {},
   "outputs": [],
   "source": []
  }
 ],
 "metadata": {
  "kernelspec": {
   "display_name": "Python 3",
   "language": "python",
   "name": "python3"
  },
  "language_info": {
   "codemirror_mode": {
    "name": "ipython",
    "version": 3
   },
   "file_extension": ".py",
   "mimetype": "text/x-python",
   "name": "python",
   "nbconvert_exporter": "python",
   "pygments_lexer": "ipython3",
   "version": "3.8.5"
  },
  "widgets": {
   "application/vnd.jupyter.widget-state+json": {
    "state": {},
    "version_major": 2,
    "version_minor": 0
   }
  }
 },
 "nbformat": 4,
 "nbformat_minor": 5
}
