{
 "cells": [
  {
   "cell_type": "code",
   "execution_count": 11,
   "metadata": {},
   "outputs": [
    {
     "name": "stderr",
     "output_type": "stream",
     "text": [
      "ibmqfactory.load_account:WARNING:2021-07-14 09:27:44,621: Credentials are already in use. The existing account in the session will be replaced.\n"
     ]
    }
   ],
   "source": [
    "import numpy as np\n",
    "# Importing standard Qiskit libraries\n",
    "from qiskit import QuantumCircuit, transpile, Aer, IBMQ, assemble, execute\n",
    "from qiskit.tools.jupyter import *\n",
    "from qiskit.visualization import *\n",
    "from ibm_quantum_widgets import *\n",
    "\n",
    "# Loading your IBM Quantum account(s)\n",
    "provider = IBMQ.load_account()"
   ]
  },
  {
   "cell_type": "markdown",
   "metadata": {},
   "source": [
    "## Multiple Qubit Gates"
   ]
  },
  {
   "cell_type": "markdown",
   "metadata": {},
   "source": [
    "Single qubits are interesting, but individually they offer no computational advantage. We will now look at how we represent multiple qubits, and how these qubits can interact with each other. We have seen how we can represent the state of a qubit using a 2D-vector, now we will see how we can represent the state of multiple qubits. \n",
    "\n",
    "In qiskit we have a range of multiple qubit case up for use:\n",
    "\n",
    "    qc.cx(c,t)  # controlled X gate (CNOT)\n",
    "    qc.cz(c,t)    # controlled Z-gate\n",
    "    qc.cy(c,t)    # Controlled Y-gate\n",
    "    qc.ch(c,t)    # Controlled Hadamard gate\n",
    "\n",
    "\n",
    "Each of these gates required two inputs: `c` which is the control qubit and `t`, being the target qubit. A controlled gates works in such a way that if the `c`-qubit is in state $|1\\rangle$ the controlled gate will be applied to the `t`-qubit. \n",
    "\n",
    "\n"
   ]
  },
  {
   "cell_type": "markdown",
   "metadata": {},
   "source": [
    "## 1. Work with CNOT-gate"
   ]
  },
  {
   "cell_type": "markdown",
   "metadata": {},
   "source": [
    "<b> 1.) Apply the CNOT gate on the $|00\\rangle$ state. What is the outcome?"
   ]
  },
  {
   "cell_type": "code",
   "execution_count": 4,
   "metadata": {},
   "outputs": [
    {
     "data": {
      "image/png": "[encoded data removed]",
      "text/plain": [
       "<Figure size 146.652x204.68 with 1 Axes>"
      ]
     },
     "execution_count": 4,
     "metadata": {},
     "output_type": "execute_result"
    }
   ],
   "source": [
    "#Apply the CNOT gate to the 00 state\n",
    "#\n",
    "qc=QuantumCircuit(2,2)\n",
    "#\n",
    "# FILL YOUR CODE IN HERE\n",
    "#\n",
    "qc.draw()"
   ]
  },
  {
   "cell_type": "markdown",
   "metadata": {},
   "source": [
    "<b> 2.) Apply the CNOT gate on the $|10\\rangle$ state. What is the outcome?"
   ]
  },
  {
   "cell_type": "code",
   "execution_count": 5,
   "metadata": {},
   "outputs": [
    {
     "data": {
      "image/png": "[encoded data removed]",
      "text/plain": [
       "<Figure size 206.852x204.68 with 1 Axes>"
      ]
     },
     "execution_count": 5,
     "metadata": {},
     "output_type": "execute_result"
    }
   ],
   "source": [
    "#Apply the CNOT gate to the 00 state\n",
    "#\n",
    "qc=QuantumCircuit(2,2)\n",
    "#\n",
    "# FILL YOUR CODE IN HERE\n",
    "\n",
    "#\n",
    "qc.draw()"
   ]
  },
  {
   "cell_type": "markdown",
   "metadata": {},
   "source": [
    "## 2. Work with controlled gates"
   ]
  },
  {
   "cell_type": "markdown",
   "metadata": {},
   "source": [
    "1.) Make a Bell state $|\\psi\\rangle = \\frac{1}{\\sqrt{2}} (|00\\rangle + |11\\rangle)  $"
   ]
  },
  {
   "cell_type": "code",
   "execution_count": 17,
   "metadata": {},
   "outputs": [
    {
     "data": {
      "image/png": "[encoded data removed]",
      "text/plain": [
       "<Figure size 504x360 with 1 Axes>"
      ]
     },
     "execution_count": 17,
     "metadata": {},
     "output_type": "execute_result"
    }
   ],
   "source": [
    "#Apply the CNOT gate to the 00 state\n",
    "#\n",
    "qc=QuantumCircuit(2,2)\n",
    "#\n",
    "# FILL YOUR CODE IN HERE\n",
    "\n",
    "#\n",
    "\n",
    "# for i in range(2):\n",
    "#     qc.measure(i,i)\n",
    "\n",
    "\n",
    "# backend = Aer.get_backend('qasm_simulator') # we choose the simulator as our backend\n",
    "# counts = execute(qc, backend, shots = 1024).result().get_counts() # we run the simulation and get the counts\n",
    "# plot_histogram(counts) \n"
   ]
  },
  {
   "cell_type": "markdown",
   "metadata": {},
   "source": [
    "2.) Make a Bell state $|\\psi\\rangle = \\frac{1}{\\sqrt{2}} (|10\\rangle - |01\\rangle)  $"
   ]
  },
  {
   "cell_type": "code",
   "execution_count": 19,
   "metadata": {},
   "outputs": [
    {
     "data": {
      "image/png": "[encoded data removed]",
      "text/plain": [
       "<Figure size 504x360 with 1 Axes>"
      ]
     },
     "execution_count": 19,
     "metadata": {},
     "output_type": "execute_result"
    }
   ],
   "source": [
    "#Apply the CNOT gate to the 00 state\n",
    "#\n",
    "qc=QuantumCircuit(2,2)\n",
    "#\n",
    "# FILL YOUR CODE IN HERE\n",
    "\n",
    "#\n",
    "\n",
    "for i in range(2):\n",
    "    qc.measure(i,i)\n",
    "\n",
    "\n",
    "backend = Aer.get_backend('qasm_simulator') # we choose the simulator as our backend\n",
    "counts = execute(qc, backend, shots = 1024).result().get_counts() # we run the simulation and get the counts\n",
    "plot_histogram(counts) "
   ]
  },
  {
   "cell_type": "code",
   "execution_count": null,
   "metadata": {},
   "outputs": [],
   "source": []
  }
 ],
 "metadata": {
  "kernelspec": {
   "display_name": "Python 3",
   "language": "python",
   "name": "python3"
  },
  "language_info": {
   "codemirror_mode": {
    "name": "ipython",
    "version": 3
   },
   "file_extension": ".py",
   "mimetype": "text/x-python",
   "name": "python",
   "nbconvert_exporter": "python",
   "pygments_lexer": "ipython3",
   "version": "3.8.5"
  },
  "widgets": {
   "application/vnd.jupyter.widget-state+json": {
    "state": {},
    "version_major": 2,
    "version_minor": 0
   }
  }
 },
 "nbformat": 4,
 "nbformat_minor": 5
}
