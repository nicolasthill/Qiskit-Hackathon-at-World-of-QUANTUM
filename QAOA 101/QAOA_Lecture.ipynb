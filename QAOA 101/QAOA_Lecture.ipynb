{
 "cells": [
  {
   "cell_type": "markdown",
   "metadata": {
    "collapsed": false
   },
   "source": [
    "Theoretical Background for Section 1 & 2:\n",
    "[Further Reading](https://github.com/nicolasthill/Qiskit-Hackathon-at-World-of-QUANTUM/blob/main/QAOA%20101/QAOA_Theoretical_Background.ipynb) contains supplemental material that provides an in-depth explanation of the material below."
   ]
  },
  {
   "cell_type": "markdown",
   "metadata": {},
   "source": [
    "\n",
    "## 1. Optimization\n",
    "* Optimize y while controlling x\n",
    "    * Find a function f which generates a solution; y = f(x)\n",
    "* Cost function: the loss that we are trying to minimize\n",
    "* Cost function in quantum mechanics\n",
    "    * The system occupies the state of least energy\n",
    "    * Likelihood of finding a local minimum is lower due to quantum annealing\n",
    "    * @TODO **ADD IMAGE HERE for COST FUNC** @Peter"
   ]
  },
  {
   "cell_type": "markdown",
   "metadata": {
    "collapsed": false
   },
   "source": [
    "## 2. QAOA: Quantum Approximate Optimization Algorithm\n",
    "* QAOA\n",
    "\n",
    "    * gives an approximately optimal solution using quantum methods\n",
    "    * designed to solve combinatorial optimization problems\n",
    "    * constraint: only linear and quadratic terms are allowed for the cost function\n",
    "\n",
    "* Hamiltonian: something that governs the behaviour of any quantum system\n",
    "\n",
    "    * Defines the energies that our system can be in\n",
    "    * QAOA finds the ground state (state which corresponds to lowest energy level) of a given Hamiltonian\n",
    "    * We can translate any cost function into a Hamiltonian\n",
    "    * Minimizing the cost function is equivalent to finding the ground state of the Hamiltonian\n",
    "\n",
    "* Adiabatic theorem: if we have a system in its ground state and we transform this system slowly enough, it will remain in its lowest energy state\n",
    "* Constructing a time evolution operator for transformation\n",
    "\n",
    "    * Not trivial because the problem and mixer Hamiltonian don’t compute\n",
    "    * Use trotterizaton formula\n",
    "    * At each step mixer and problem Hamiltonian exponents are supplied with a parameter beta and gamma respectively\n",
    "        * These parameters play a key role because they simulate the adiabatic process\n",
    "    * Naturally one would expect betas to decrease and gammas to increase\n",
    "        * This reflects the fact that weight of the problem Hamiltonian should increase and the weight of mixer decrease\n",
    "* Exponentiating the mixer Hamiltonian\n",
    "\n",
    "    * Applying a rotational X gate to each qubit at an angle 2 beta\n",
    "    * Applying a number of rotational Z gates and controlled rotational Z gates to all the qubits\n",
    "    * Rotations also depend on the coefficients from QUBO matrix\n",
    "  \n",
    "* QAOA algorithm\n",
    "    * At each optimization step, measure the state of the parameterized circuit\n",
    "        * Measurement results in a distribution of probabilities\n",
    "    * To evaluate cost, scale the energy for each bitstring that we measured with its probability and take the average\n",
    "    * Classical optimizer now tries to minimize this energy by updating parameter of the circuit\n",
    "    * Measure quantum state after updating parameters\n",
    "    * Continue until optimizer lands in an optimal solution\n"
   ]
  },
  {
   "cell_type": "markdown",
   "metadata": {},
   "source": [
    "## Implementation\n",
    "\n",
    "We'll now start the daunting task of actually implementing the QAOA algorithm in order to understand how it is able to harness quantum effects to speed up the optimization process.\n",
    "\n",
    "### 1. MaxCut Problem\n",
    "\n",
    "We will do this by solving a problem from graph theory: the max-cut Problem.\n",
    "\n",
    "The objective of max-cut is to split the set of vertices of a graph into two subsets, such that the sum of the weights of the edges having one endpoint in each of the subsets is maximum. This, of course, sounds like gibberish to anyone unfamiliar with graph theory but we illustrate this with a scenario every student here is familiar with: passing paper messages in a classroom.\n",
    "\n",
    "Now, the nodes of the graph represent the students and the weights of the edges represent the number of notes passed between a pair of students.\n",
    "\n",
    "Take the following as an example situation:"
   ]
  },
  {
   "cell_type": "markdown",
   "metadata": {},
   "source": [
    "- We have the four students: Anna, Bob, Clara and Diego\n",
    "- Teacher wants to limit communication among students, and through investigation knows exactly how many notes are passed between each pair of students for one class\n",
    "- Connection between a single pair of nodes -> results in note-passing\n",
    "- Class is moving to a new room, with a huge gap in the middle that prevents note-passing to the other side\n",
    "- How should the teacher divide the class into two groups to **minimize** notes sent? (Optimization Task)\n",
    "\n",
    "Result of QAOA solution: total communication reduced from 4 to 0\n",
    "\n",
    "Moving onto implementation:\n",
    "\n",
    "Formalizing this graph"
   ]
  },
  {
   "cell_type": "code",
   "execution_count": 7,
   "metadata": {
    "scrolled": true
   },
   "outputs": [
    {
     "data": {
      "image/png": "[encoded data removed]",
      "text/plain": [
       "<Figure size 432x288 with 1 Axes>"
      ]
     },
     "metadata": {},
     "output_type": "display_data"
    }
   ],
   "source": [
    "import networkx as nx               # package for graphs\n",
    "import numpy as np                  # package for basic math\n",
    "import matplotlib.pyplot as plt     # package for plotting\n",
    "from IPython.display import Image   # package for images\n",
    "\n",
    "# import qiskit function\n",
    "from qiskit import IBMQ, Aer, execute               # functions used to run and simulate the quantum circuit\n",
    "from qiskit import QuantumCircuit                   # class that runs the circuits\n",
    "from qiskit.circuit import ParameterVector          # class for parameter storage\n",
    "from qiskit_optimization import QuadraticProgram    # allows encoding the graph\n",
    "from qiskit.visualization import plot_histogram     # for plotting results\n",
    "\n",
    "# Let's define the problem in the form of a graph\n",
    "\n",
    "graph = nx.Graph()  # create the graph\n",
    "\n",
    "\n",
    "graph.add_nodes_from([0, 1, 2, 3])                          # list of 4 students added to the graph as nodes\n",
    "graph.add_edges_from([(0, 1), (1, 2), (2, 3), (3, 0)])      # student pairs (0,2) and (1,3) don't communicate, the rest do\n",
    "nx.draw(graph, with_labels=True, alpha=1, node_size=500)    # we draw the graph"
   ]
  },
  {
   "cell_type": "markdown",
   "metadata": {},
   "source": [
    "We need to encode the problem further into a form that the QAOA can use -> QuadraticProgram.\n",
    "\n",
    "Now, translating a weighted graph into a QUBO is very straightforward and can be implemented in the following way, where W is the weight matrix of our graph."
   ]
  },
  {
   "cell_type": "code",
   "execution_count": 9,
   "metadata": {},
   "outputs": [],
   "source": [
    "def quadratic_program_from_graph(graph: nx.Graph) -> QuadraticProgram:\n",
    "    '''Generates a QuadraticProblem from a graph.\n",
    "    Args:\n",
    "        graph: graph of the problem of class nx.Graph\n",
    "    Returns: \n",
    "        quadratic problem of class QuadraticProgram\n",
    "    '''\n",
    "    \n",
    "    weight_matrix = nx.adjacency_matrix(graph)  # generate weight_matrix from the graph\n",
    "    shape = weight_matrix.shape                 # to determine number of nodes from weight_matrix\n",
    "    size = shape[0]                             # number of nodes\n",
    "    \n",
    "    ## build QUBO matrix Q from weight matrix\n",
    "\n",
    "    qubo_matrix = np.zeros((size, size))    # initialize qubo marix shape\n",
    "    qubo_vector = np.zeros(size)\n",
    "    \n",
    "    \n",
    "    for i in range(size):                   # populate matrix and vector\n",
    "        for j in range(size):\n",
    "            qubo_matrix[i,j] -= weight_matrix[i, j]\n",
    "            qubo_vector[i] += weight_matrix[i,j]\n",
    "            \n",
    "    ## define the quadratic program\n",
    "\n",
    "    quadratic_program = QuadraticProgram('maxcut')      # initialize program for maxcut problem\n",
    "    \n",
    "    \n",
    "    for i in range(size):                               # name the nodes x_1 to x_n\n",
    "        var_name = 'x_{}'.format(i)\n",
    "        quadratic_program.binary_var(var_name)\n",
    "    \n",
    "    quadratic_program.maximize(quadratic=qubo_matrix,   # generate the quadratic_program from the qubo matrix and vector\n",
    "                                linear=qubo_vector,\n",
    "                                constant=0)   \n",
    "    \n",
    "    return quadratic_program"
   ]
  },
  {
   "cell_type": "markdown",
   "metadata": {},
   "source": [
    "For this toy problem we have already seen our parametrized circuit. We see that for any pair of connected edges there is RZZ (controlled rotational Z) gate. And for non-connected edges the RZZ gates actually have 0 as a parameter, so it doesn’t do anything."
   ]
  },
  {
   "cell_type": "code",
   "execution_count": 10,
   "metadata": {},
   "outputs": [],
   "source": [
    "def qaoa_circuit(qubo: QuadraticProgram, gammas, betas, p: int = 1):\n",
    "    '''\n",
    "    Given a QUBO instance and the number of layers, construct \n",
    "    a corresponding parametrized circuit with p layers.\n",
    "    Args:\n",
    "        qubo: The QuadraticProgram qubo instance\n",
    "        p: The number of layers in the QAOA circuit\n",
    "    Returns: \n",
    "        The parametrized QAOA circuit\n",
    "    '''\n",
    "\n",
    "    size = len(qubo.variables)                                          # number of nodes\n",
    "    qubo_matrix = qubo.objective.quadratic.to_array(symmetric=True)     # get qubo matrix\n",
    "    qubo_linearity = qubo.objective.linear.to_array()                   # get qubo vector\n",
    "\n",
    "    ## Generate the circuit\n",
    "    \n",
    "    qaoa_circuit = QuantumCircuit(size, size)   # Prepare the quantum and classical registers with n_qubits = n_nodes\n",
    "\n",
    "    qaoa_circuit.h(range(size))                 # Apply the initial layer of Hadamard gates to all qubits\n",
    "\n",
    "    \n",
    "    for layer in range(p):  # each iteration creates a depth layer\n",
    "\n",
    "        # Apply Rz rotational gates from the cost layer\n",
    "        for i in range(size):\n",
    "            w_i = (qubo_linearity[layer] + sum(qubo_matrix[i])) / 2\n",
    "            qaoa_circuit.rz(phi=gammas[layer]*w_i, qubit=i)\n",
    "\n",
    "        # Apply the Rzz rotational gates for entangled qubits from cost layer\n",
    "        for i in range(1,size):\n",
    "            for j in range(i):\n",
    "                w_ij = qubo_matrix[i,j]/4\n",
    "                qaoa_circuit.rzz(theta=gammas[layer]*w_ij, qubit1=i, qubit2=j)\n",
    "                \n",
    "        # Apply single qubit Rx rotations from mixer layer to all qubits\n",
    "        qaoa_circuit.barrier()\n",
    "        for i in range(size):\n",
    "            qaoa_circuit.rx(theta=2*betas[layer], qubit=i)\n",
    "\n",
    "    # Measure the result in computational basis\n",
    "    qaoa_circuit.barrier()\n",
    "    qaoa_circuit.measure(range(size), range(size))\n",
    "\n",
    "    return qaoa_circuit"
   ]
  },
  {
   "cell_type": "markdown",
   "metadata": {},
   "source": [
    "Computing energy for a single bitstring is trivial.\n",
    "We can just plug it in our QUBO problem.\n",
    "\n",
    "For a distribution of measured bitstrings we need to scale the energy with the probability of measuring this bitstring."
   ]
  },
  {
   "cell_type": "code",
   "execution_count": 11,
   "metadata": {},
   "outputs": [],
   "source": [
    "def compute_energy(qubo: QuadraticProgram, x: str):\n",
    "    \"\"\"\n",
    "    Given a bitstring as a solution, returns\n",
    "    the corresponding energy according to given QUBO.\n",
    "    Args:\n",
    "        qubo: The quadratic qubo instance\n",
    "        x: Solution bitstring      \n",
    "    Returns:\n",
    "        e: Energy\n",
    "    \"\"\"\n",
    "\n",
    "    n = len(x)                              # number of nodes\n",
    "    v =  np.fromstring(x,'u1') - ord('0')   \n",
    "\n",
    "    qubo_matrix = qubo.objective.quadratic.to_array(symmetric=True)     # get qubo matrix\n",
    "    qubo_linearity = qubo.objective.linear.to_array()                   # get qubo vector\n",
    "\n",
    "    e = 0   # energy start at zero\n",
    "\n",
    "    for i in range(n):\n",
    "        for j in range(n):\n",
    "            e += qubo_matrix[i][j]*v[i]*v[j]\n",
    "    \n",
    "    for i in range(n):\n",
    "        e += qubo_linearity[i]*v[i]\n",
    "        \n",
    "    return e"
   ]
  },
  {
   "cell_type": "code",
   "execution_count": 8,
   "metadata": {},
   "outputs": [],
   "source": [
    "def compute_expectation(qubo: QuadraticProgram, counts):\n",
    "    \"\"\"\n",
    "    Computes expectation value based on measurement results\n",
    "    Args:\n",
    "        counts: dict\n",
    "                Key as bitstring, val as count\n",
    "           \n",
    "        qubo: The quadratic qubo instance\n",
    "    Returns:\n",
    "        avg: Expectation value\n",
    "    \"\"\"\n",
    "    sum = 0         # initialize as zero\n",
    "    sum_count = 0   # initialize as zero\n",
    "\n",
    "    for bitstring, count in counts.items():     # iterate over all results\n",
    "        \n",
    "        obj = compute_energy(qubo, bitstring)   # determine energy of result\n",
    "        sum += obj * count                      # add resulting energy times number of times it appeared\n",
    "        sum_count += count                      # update total count\n",
    "        \n",
    "    return sum/sum_count   # return the overall average"
   ]
  },
  {
   "cell_type": "code",
   "execution_count": 13,
   "metadata": {},
   "outputs": [],
   "source": [
    "def get_expectation(qubo :QuadraticProgram, gammas: ParameterVector, betas: ParameterVector, p: int = 1, shots = 512):\n",
    "    \"\"\"\n",
    "    Runs parametrized circuit\n",
    "    \n",
    "    Args:\n",
    "        qubo: The quadratic qubo instance\n",
    "        p: Number of repetitions of unitaries\n",
    "        shots: The number of shots\n",
    "    \"\"\"    \n",
    "\n",
    "    qc = qaoa_circuit(qubo, gammas, betas, p)   # generate the circuit\n",
    "    qc.draw()                                   # draw the circuit\n",
    "\n",
    "    backend = Aer.get_backend('qasm_simulator') # generate the backend simulator\n",
    "    backend.shots = shots                       # fix the number of shots (runs) of the simulator\n",
    "    \n",
    "    counts = execute(qc, backend=backend).result().get_counts(qc) # excecute the simulation of the qaoa algorithm\n",
    "    \n",
    "\n",
    "    return compute_expectation(qubo, counts)    # return the expected energy of the system"
   ]
  },
  {
   "cell_type": "markdown",
   "metadata": {},
   "source": [
    "For a toy problem like ours we can of course compute the energy for all betas and gammas and get this beautiful energy landscape.\n",
    "\n",
    "As we expected we see the periodicity in parameters beta and gamma, which are just scalars in this case. This is explained by the fact that we apply rotational gates."
   ]
  },
  {
   "cell_type": "code",
   "execution_count": 3,
   "metadata": {},
   "outputs": [
    {
     "data": {
      "text/html": [
       "<img src=\"Images/5nodes.png\"/>"
      ],
      "text/plain": [
       "<IPython.core.display.Image object>"
      ]
     },
     "execution_count": 3,
     "metadata": {},
     "output_type": "execute_result"
    }
   ],
   "source": [
    "Image(url= \"Images/5nodes.png\")"
   ]
  },
  {
   "cell_type": "markdown",
   "metadata": {},
   "source": [
    "Now maximizing the energy function is done by the SCIPY minimizer which tries to find the global peak in this energy landscape. And the wrapper function that we pass to minimizer is just the energy function multiplied with minus one."
   ]
  },
  {
   "cell_type": "code",
   "execution_count": 5,
   "metadata": {},
   "outputs": [
    {
     "ename": "NameError",
     "evalue": "name 'quadratic_program_from_graph' is not defined",
     "output_type": "error",
     "traceback": [
      "\u001b[1;31m---------------------------------------------------------------------------\u001b[0m",
      "\u001b[1;31mNameError\u001b[0m                                 Traceback (most recent call last)",
      "\u001b[1;32m<ipython-input-5-768941177515>\u001b[0m in \u001b[0;36m<module>\u001b[1;34m\u001b[0m\n\u001b[0;32m      1\u001b[0m \u001b[1;31m# define our quadratic problem\u001b[0m\u001b[1;33m\u001b[0m\u001b[1;33m\u001b[0m\u001b[1;33m\u001b[0m\u001b[0m\n\u001b[1;32m----> 2\u001b[1;33m \u001b[0mqubo\u001b[0m \u001b[1;33m=\u001b[0m \u001b[0mquadratic_program_from_graph\u001b[0m\u001b[1;33m(\u001b[0m\u001b[0mgraph\u001b[0m\u001b[1;33m)\u001b[0m\u001b[1;33m\u001b[0m\u001b[1;33m\u001b[0m\u001b[0m\n\u001b[0m\u001b[0;32m      3\u001b[0m \u001b[1;33m\u001b[0m\u001b[0m\n\u001b[0;32m      4\u001b[0m \u001b[1;32mdef\u001b[0m \u001b[0mwrapper\u001b[0m\u001b[1;33m(\u001b[0m\u001b[0mx\u001b[0m\u001b[1;33m)\u001b[0m\u001b[1;33m:\u001b[0m\u001b[1;33m\u001b[0m\u001b[1;33m\u001b[0m\u001b[0m\n\u001b[0;32m      5\u001b[0m     \u001b[1;32mreturn\u001b[0m \u001b[1;33m-\u001b[0m\u001b[1;36m1\u001b[0m\u001b[1;33m*\u001b[0m\u001b[0mget_expectation\u001b[0m\u001b[1;33m(\u001b[0m\u001b[0mqubo\u001b[0m\u001b[1;33m,\u001b[0m \u001b[1;33m[\u001b[0m\u001b[0mx\u001b[0m\u001b[1;33m[\u001b[0m\u001b[1;36m0\u001b[0m\u001b[1;33m]\u001b[0m\u001b[1;33m]\u001b[0m\u001b[1;33m,\u001b[0m \u001b[1;33m[\u001b[0m\u001b[0mx\u001b[0m\u001b[1;33m[\u001b[0m\u001b[1;36m1\u001b[0m\u001b[1;33m]\u001b[0m\u001b[1;33m]\u001b[0m\u001b[1;33m,\u001b[0m \u001b[0mp\u001b[0m\u001b[1;33m=\u001b[0m\u001b[1;36m1\u001b[0m\u001b[1;33m)\u001b[0m\u001b[1;33m\u001b[0m\u001b[1;33m\u001b[0m\u001b[0m\n",
      "\u001b[1;31mNameError\u001b[0m: name 'quadratic_program_from_graph' is not defined"
     ]
    }
   ],
   "source": [
    "# define our quadratic problem\n",
    "qubo = quadratic_program_from_graph(graph)\n",
    "\n",
    "def wrapper(x):\n",
    "    return -1*get_expectation(qubo, [x[0]], [x[1]], p=1)\n",
    "\n",
    "# perform the optimization using SCIPY \n",
    "# from scipy.optimize import minimize   \n",
    "# res = minimize(wrapper, x0=[0.0, 1.0], method='COBYLA')\n",
    "# res     \n",
    "\n",
    "# plot_histogram"
   ]
  },
  {
   "cell_type": "markdown",
   "metadata": {},
   "source": [
    "Running optimization with COBYLA at an initial state 0 1 clearly highlights the right solutions to the problem. Initial state 1 0 in the contrary doesn’t lead to this clear distinction of the two correct solutions from all the other.\n",
    "\n",
    "And as we see SLSQP wasn’t able to find the global maximum as it apparently ends up in local maxima. This is why the classical optimizer is crucial for QAOA."
   ]
  },
  {
   "cell_type": "code",
   "execution_count": 4,
   "metadata": {},
   "outputs": [
    {
     "data": {
      "text/html": [
       "<img src=\"Images/optimizers.jpg\"/>"
      ],
      "text/plain": [
       "<IPython.core.display.Image object>"
      ]
     },
     "execution_count": 4,
     "metadata": {},
     "output_type": "execute_result"
    }
   ],
   "source": [
    "Image(url=\"Images/optimizers.jpg\")"
   ]
  },
  {
   "cell_type": "markdown",
   "metadata": {
    "pycharm": {
     "name": "#%% md\n"
    }
   },
   "source": [
    "There are many possible optimizations to QAOA - some which have only been recently introduced.\n",
    "\n",
    "One idea is to choose the starting point in a smart way by precomputing the rotation angles.\n",
    "Another improvement possibility is to only consider a fraction with the highest probabilities during measurement when computing the energy of samples.\n",
    "An extreme solution would be just to pick up the bitstring with the highest probability and calculate the energy for it. Another idea is so-called warm starting. It essentially means instead of starting with the ground state which is the equal superposition of all states, to pick a state which is closer to the solution. And of course, adjust the mixer Hamiltonian. Now the limiting factor is the device connectivity. When performing the controlled gates between two qubits, which are not directly connected on the actual hardware, the transpiler introduces SWAP-gates which are very costly in terms of runtime. This of course decreases the performance.\n"
   ]
  }
 ],
 "metadata": {
  "interpreter": {
   "hash": "f8af8a5d58c03aea7fed271afda0c18009a73827ffd40ee9cf6d51ffb766ed25"
  },
  "kernelspec": {
   "display_name": "Python 3",
   "language": "python",
   "name": "python3"
  },
  "language_info": {
   "codemirror_mode": {
    "name": "ipython",
    "version": 3
   },
   "file_extension": ".py",
   "mimetype": "text/x-python",
   "name": "python",
   "nbconvert_exporter": "python",
   "pygments_lexer": "ipython3",
   "version": "3.8.8"
  }
 },
 "nbformat": 4,
 "nbformat_minor": 2
}
