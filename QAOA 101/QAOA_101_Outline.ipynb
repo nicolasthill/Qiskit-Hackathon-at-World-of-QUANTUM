{
 "cells": [
  {
   "cell_type": "markdown",
   "metadata": {},
   "source": [
    "## Introduction\n",
    "\n",
    "## What is a Quantum Algorithm?\n",
    "\n",
    "## What Advantages does a Quantum Algorithm have?\n",
    "\n",
    "## What is QAOA?\n",
    "\n",
    "## What can we use QAOA for?\n",
    "\n",
    "## How is QAOA superior to classical Optimization?\n",
    "\n",
    "## Further applications"
   ]
  }
 ],
 "metadata": {
  "language_info": {
   "name": "python"
  },
  "orig_nbformat": 4
 },
 "nbformat": 4,
 "nbformat_minor": 2
}
