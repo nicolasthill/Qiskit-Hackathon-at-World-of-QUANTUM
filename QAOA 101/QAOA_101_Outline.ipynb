{
 "cells": [
  {
   "cell_type": "markdown",
   "metadata": {},
   "source": [
    "## Introduction/Motivation\n",
    "\n",
    "## Theory\n",
    "\n",
    "## Implementation\n",
    "\n",
    "## Qiskit\n",
    "\n",
    "## Fields of Application"
   ]
  }
 ],
 "metadata": {
  "language_info": {
   "name": "python"
  },
  "orig_nbformat": 4
 },
 "nbformat": 4,
 "nbformat_minor": 2
}
