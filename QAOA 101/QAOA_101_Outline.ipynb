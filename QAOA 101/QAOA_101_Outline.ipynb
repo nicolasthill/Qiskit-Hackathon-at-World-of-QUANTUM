{
 "cells": [
  {
   "cell_type": "markdown",
   "source": [
    "[Further Reading on Optimization & QAOA Background](https://github.com/nicolasthill/Qiskit-Hackathon-at-World-of-QUANTUM/blob/main/QAOA%20101/QAOA_and_Optimization.ipynb)\n"
   ],
   "metadata": {
    "collapsed": false
   }
  },
  {
   "cell_type": "markdown",
   "metadata": {},
   "source": [
    "## 1. Optimization\n",
    "* Optimize y while controlling x\n",
    "    * Find a function f which generates a solution; y = f(x)\n",
    "* Cost function: the loss that we are trying to minimize\n",
    "* Cost function in quantum mechanics\n",
    "    * The system occupies the state of least energy\n",
    "    * Likelihood of finding a local minimum is lower due to quantum annealing\n",
    "* Quantum annealing\n",
    "    * Start with a uniform superposition of all possible states\n",
    "    * System evolves following the time-dependent Schrödinger equation\n",
    "    * The amplitudes of all candidate states keep changing\n",
    "        * Ending up in the ground state -> solution is found\n"
   ]
  },
  {
   "cell_type": "markdown",
   "source": [
    "## 2. QAOA\n",
    "* QAOA: Quantum Approximate Optimization Algorithm\n",
    "    * gives an approximately optimal solution using quantum methods\n",
    "    * designed to solve combinatorial optimization problems\n",
    "    * constraint: only linear and quadratic terms are allowed for the cost function\n",
    "* Hamiltonian: something that governs the behaviour of any quantum system\n",
    "    * Defines the energies that our system can be in\n",
    "    * QAOA finds the ground state (state which corresponds to lowest energy level) of a given Hamiltonian\n",
    "    * We can translate any cost function into a Hamiltonian\n",
    "    * Minimizing the cost function is equivalent to finding the ground state of the Hamiltonian\n",
    "* Adiabatic theorem: if we have a system in its ground state and we transform this system slowly enough, it will remain in its lowest energy state\n",
    "* Constructing a time evolution operator for transformation\n",
    "    * Not trivial because the problem and mixer Hamiltonian don’t compute\n",
    "    * Use trotterizaton formula\n",
    "    * At each step mixer and problem Hamiltonian exponents are supplied with a parameter beta and gamma respectively\n",
    "        * These parameters play a key role because they simulate the adiabatic process\n",
    "    * Naturally one would expect betas to decrease and gammas to increase\n",
    "        * This reflects the fact that weight of the problem Hamiltonian should increase and the weight of mixer decrease\n",
    "* Exponentiating the mixer Hamiltonian\n",
    "    * Applying a rotational X gate to each qubit at an angle 2 beta\n",
    "    * Applying a number of rotational Z gates and controlled rotational Z gates to all the qubits\n",
    "    * Rotations also depend on the coefficients from QUBO matrix\n",
    "* QAOA algorithm\n",
    "    * At each optimization step, measure the state of the parameterized circuit\n",
    "        * Measurement results in a distribution of probabilities\n",
    "    * To evaluate cost, scale the energy for each bitstring that we measured with its probability and take the average\n",
    "    * Classical optimizer now tries to minimize this energy by updating parameter of the circuit\n",
    "    * Measure quantum state after updating parameters\n",
    "    * Continue until optimizer lands in an optimal solution\n"
   ],
   "metadata": {
    "collapsed": false
   }
  },
  {
   "cell_type": "markdown",
   "metadata": {},
   "source": [
    "## Implementation\n",
    "\n",
    "We'll now start the daunting task of actually implementing the QAOA algorithm in order to understand how it is able to harness quantum effects to speed up the optimization process.\n",
    "\n",
    "### 1. MaxCut Problem\n",
    "\n",
    "We will do this by solving a problem from graph theory: the max-cut Problem. The objective of max-cut is to split the set of vertices of a graph into two subsets, such that the sum of the weights of the edges having one endpoint in each of the subsets is maximum. This, of course, sound like gibberish to anyone not inimitely familiar with graph theory but we can illustrate it with a scenario every student here is familiar with: passing paper messages in a classroom. Now, the nodes of the graph represent the students and the weights of the edges represent the number of messages passed between two students. Take the following as an example situation: "
   ]
  },
  {
   "cell_type": "markdown",
   "metadata": {},
   "source": [
    "- We have the four students: Anna, Bob, Clara and Diego\n",
    "- Teacher wants to limit communication among students, students think teachers don't notice passing of messages put precise count over one hours was held\n",
    "- the optimization problem is such that the teacher wants to split the students into two separate groups which are unable to communicate while minimizing overall communication\n",
    "- this simple problem the solution is obvious as the teacher should just make two separate rows far enough apart to prevent the passing of notes\n",
    "- reduces total communication from 17 to 3 notes passed\n",
    "\n",
    "Moving onto implementation:\n",
    "\n",
    "Formalizing this graph"
   ]
  },
  {
   "cell_type": "code",
   "execution_count": 8,
   "metadata": {
    "scrolled": true
   },
   "outputs": [
    {
     "data": {
      "image/png": "[encoded data removed]",
      "text/plain": [
       "<Figure size 432x288 with 1 Axes>"
      ]
     },
     "metadata": {},
     "output_type": "display_data"
    }
   ],
   "source": [
    "import networkx as nx   # package used for graphing\n",
    "import numpy as np\n",
    "import matplotlib.pyplot as plt\n",
    "\n",
    "from qiskit import IBMQ, Aer, assemble, transpile, execute\n",
    "from qiskit import QuantumCircuit, ClassicalRegister, QuantumRegister\n",
    "from qiskit.circuit import ParameterVector\n",
    "from qiskit.optimization import QuadraticProgram #CHANGE TO qiskit_optimization\n",
    "#import basic plot tools\n",
    "from qiskit.visualization import plot_histogram\n",
    "\n",
    "\n",
    "graph = nx.Graph()  # create the graph\n",
    "\n",
    "nodes = [0, 1, 2, 3]    # student nodes\n",
    "edges = [(0,1,2.0), (0,3,4.0), (1,3,10.0), (2,3,1.0)]    # weighted by number of messages between students\n",
    "\n",
    "# add nodes and edges to graph\n",
    "graph.add_nodes_from(nodes) \n",
    "graph.add_weighted_edges_from(edges)\n",
    "\n",
    "nx.draw(graph, with_labels=True, alpha=0.8, node_size=500)"
   ]
  },
  {
   "cell_type": "markdown",
   "metadata": {},
   "source": [
    "The next steps of encoding the problem further into a form that the QAOA algorithm can use, namely as QuadraticProgram. Now, translating a weighted graph into a QUBO is very straightforward and can be implemented in the following way, where W is the weight matrix of our graph. "
   ]
  },
  {
   "cell_type": "code",
   "execution_count": 9,
   "metadata": {},
   "outputs": [],
   "source": [
    "def quadratic_program_from_graph(graph: nx.Graph) -> QuadraticProgram:\n",
    "    '''Generates a QuadraticProblem from a graph.\n",
    "    Args:\n",
    "        graph: graph of the problem of class nx.Graph\n",
    "    Returns: \n",
    "        quadratic problem of class QuadraticProgram\n",
    "    '''\n",
    "    # get weight matrix from the graph\n",
    "    weight_matrix = nx.adjacency_matrix(graph)\n",
    "    shape = weight_matrix.shape\n",
    "    size = shape[0] # number of nodes\n",
    "    \n",
    "    # build QUBO matrix Q from weight matrix\n",
    "    qubo_matrix = np.zeros((size, size))\n",
    "    qubo_vector = np.zeros(size)\n",
    "    \n",
    "    for i in range(size):\n",
    "        for j in range(size):\n",
    "            qubo_matrix[i,j] -= weight_matrix[i, j]\n",
    "            qubo_vector[i] += weight_matrix[i,j]\n",
    "            \n",
    "    # define the quadratic program\n",
    "    quadratic_program = QuadraticProgram('maxcut')\n",
    "    \n",
    "    for i in range(size):\n",
    "        var_name = 'x_{}'.format(i)\n",
    "        quadratic_program.binary_var(var_name)\n",
    "        \n",
    "    quadratic_program.maximize(quadratic=qubo_matrix, linear=qubo_vector, constant=0)\n",
    "    \n",
    "    return quadratic_program"
   ]
  },
  {
   "cell_type": "markdown",
   "metadata": {},
   "source": [
    "For this toy problem we have already seen our parametrized circuit. We see that for any pair of connected edges there is RZZ gate. And for non-connected edges the RZZ gates actually has 0 as a parameter so it doesn’t do anything."
   ]
  },
  {
   "cell_type": "code",
   "execution_count": 10,
   "metadata": {},
   "outputs": [],
   "source": [
    "def qaoa_circuit(qubo: QuadraticProgram, gammas, betas, p: int = 1):\n",
    "    '''\n",
    "    Given a QUBO instance and the number of layers, construct \n",
    "    a corresponding parametrized circuit with p layers.\n",
    "    Args:\n",
    "        qubo: The quadratic qubo instance\n",
    "        p: The number of layers in the QAOA circuit\n",
    "    Returns: \n",
    "        The parametrized QAOA circuit\n",
    "    '''\n",
    "    size = len(qubo.variables)\n",
    "    qubo_matrix = qubo.objective.quadratic.to_array(symmetric=True)\n",
    "    qubo_linearity = qubo.objective.linear.to_array()\n",
    "\n",
    "    # Prepare the quantum and classical registers\n",
    "    qaoa_circuit = QuantumCircuit(size, size)\n",
    "    # Apply the initial layer of Hadamard gates to all qubits\n",
    "    qaoa_circuit.h(range(size))\n",
    "\n",
    "    # Outer loop to create eahc layer\n",
    "    for layer in range(p):\n",
    "        # Apply Rz rotational gates from the cost layer\n",
    "        for i in range(size):\n",
    "            w_i = (qubo_linearity[layer] + sum(qubo_matrix[i])) / 2\n",
    "            qaoa_circuit.rz(phi=gammas[layer]*w_i, qubit=i)\n",
    "        # Apply the Rzz rotational gates for entangled qubits from cost layer\n",
    "        for i in range(1,size):\n",
    "            for j in range(i):\n",
    "                w_ij = qubo_matrix[i,j]/4\n",
    "                qaoa_circuit.rzz(theta=gammas[layer]*w_ij, qubit1=i, qubit2=j)\n",
    "        # Apply single qubit Rx rotations from mixer layer to all qubits\n",
    "        qaoa_circuit.barrier()\n",
    "        for i in range(size):\n",
    "            qaoa_circuit.rx(theta=2*betas[layer], qubit=i)\n",
    "\n",
    "    # Measure the result in computational basis\n",
    "    qaoa_circuit.barrier()\n",
    "    qaoa_circuit.measure(range(size), range(size))\n",
    "\n",
    "    return qaoa_circuit"
   ]
  },
  {
   "cell_type": "markdown",
   "metadata": {},
   "source": [
    "Computing energy for a single bitstring is trivial. We can just pluck it in out QUBO problem. For a distribution of measured bitstrings we need to scale the energy with the probability of measuring this bitrsing."
   ]
  },
  {
   "cell_type": "code",
   "execution_count": 11,
   "metadata": {},
   "outputs": [],
   "source": [
    "def compute_energy(qubo: QuadraticProgram, x: str):\n",
    "    \"\"\"\n",
    "    Given a bitstring as a solution, returns\n",
    "    the corresponding energy according to given QUBO.\n",
    "    Args:\n",
    "        qubo: The quadratic qubo instance\n",
    "        x: Solution bitstring      \n",
    "    Returns:\n",
    "        e: Energy\n",
    "    \"\"\"\n",
    "    n = len(x)\n",
    "    v =  np.fromstring(x,'u1') - ord('0')\n",
    "    qubo_matrix = qubo.objective.quadratic.to_array(symmetric=True)\n",
    "    qubo_linearity = qubo.objective.linear.to_array()\n",
    "    e = 0\n",
    "    for i in range(n):\n",
    "        for j in range(n):\n",
    "            e += qubo_matrix[i][j]*v[i]*v[j]\n",
    "    for i in range(n):\n",
    "        e += qubo_linearity[i]*v[i]\n",
    "        \n",
    "    return e"
   ]
  },
  {
   "cell_type": "code",
   "execution_count": 12,
   "metadata": {},
   "outputs": [],
   "source": [
    "def compute_expectation(qubo: QuadraticProgram, counts):\n",
    "    \"\"\"\n",
    "    Computes expectation value based on measurement results\n",
    "    Args:\n",
    "        counts: dict\n",
    "                Key as bitstring, val as count\n",
    "           \n",
    "        qubo: The quadratic qubo instance\n",
    "    Returns:\n",
    "        avg: Expectation value\n",
    "    \"\"\"\n",
    "    avg = 0\n",
    "    sum_count = 0\n",
    "    for bitstring, count in counts.items():\n",
    "        \n",
    "        obj = compute_energy(qubo, bitstring)\n",
    "        avg += obj * count\n",
    "        sum_count += count\n",
    "        \n",
    "    return avg/sum_count   "
   ]
  },
  {
   "cell_type": "code",
   "execution_count": 13,
   "metadata": {},
   "outputs": [],
   "source": [
    "def get_expectation(qubo :QuadraticProgram, gammas: ParameterVector, betas: ParameterVector, p: int = 1, shots = 512):\n",
    "    \"\"\"\n",
    "    Runs parametrized circuit\n",
    "    \n",
    "    Args:\n",
    "        qubo: The quadratic qubo instance\n",
    "        p: Number of repetitions of unitaries\n",
    "        shots: The number of shots\n",
    "    \"\"\"    \n",
    "    qc = qaoa_circuit(qubo, gammas, betas, p)\n",
    "    backend = Aer.get_backend('qasm_simulator')\n",
    "    backend.shots = shots\n",
    "    \n",
    "    counts = execute(qc, backend=backend).result().get_counts(qc)\n",
    "    qc.draw()\n",
    "    return compute_expectation(qubo, counts)"
   ]
  },
  {
   "cell_type": "markdown",
   "metadata": {},
   "source": [
    "For a toy problem like ours we can of course compute the energy for all betas and gammas and get this beautiful energy landscape. As we expected we see the periodicity in parameters beta and gamma, which are just scalars in this case. Well, this is explained by the fact that we apply rotational gates. "
   ]
  },
  {
   "cell_type": "code",
   "execution_count": 14,
   "metadata": {},
   "outputs": [
    {
     "data": {
      "text/html": [
       "<img src=\"images/5nodes.png\"/>"
      ],
      "text/plain": [
       "<IPython.core.display.Image object>"
      ]
     },
     "execution_count": 14,
     "metadata": {},
     "output_type": "execute_result"
    }
   ],
   "source": [
    "Image(url= \"images/5nodes.png\")"
   ]
  },
  {
   "cell_type": "markdown",
   "metadata": {},
   "source": [
    "Now maximizing the energy function is done by the SCIPY minimizer which tries to find the global peak in this energy landscape. And the wrapper function that we pass to minimizer is just the energy function multiplied with minus one."
   ]
  },
  {
   "cell_type": "code",
   "execution_count": 19,
   "metadata": {},
   "outputs": [],
   "source": [
    "# define our quadratic problem\n",
    "qubo = quadratic_program_from_graph(graph)\n",
    "\n",
    "def wrapper(x):\n",
    "    return -1*get_expectation(qubo, [x[0]], [x[1]], p=1)\n",
    "\n",
    "# perform the optimization using SCIPY \n",
    "#from scipy.optimize import minimize   \n",
    "#res = minimize(wrapper, x0=[0.0, 1.0], method='COBYLA')\n",
    "#res     "
   ]
  },
  {
   "cell_type": "markdown",
   "metadata": {},
   "source": [
    "Running optimization with COBYLA at an initial state 0 1 clearly highlights the right solutions to the problem. Initial state 1 0 in the contrary doesn’t lead to this clear distinction of the two correct solutions from all the other. And as we see SLSQP wasn’t able to find the global maximum as it apparently ends up in local maxima. This is why the classical optimizer is crucial for QAOA."
   ]
  },
  {
   "cell_type": "code",
   "execution_count": 17,
   "metadata": {},
   "outputs": [
    {
     "data": {
      "text/html": [
       "<img src=\"Images/optimizers.jpg\"/>"
      ],
      "text/plain": [
       "<IPython.core.display.Image object>"
      ]
     },
     "execution_count": 17,
     "metadata": {},
     "output_type": "execute_result"
    }
   ],
   "source": [
    "Image(url=\"Images/optimizers.jpg\")"
   ]
  },
  {
   "cell_type": "markdown",
   "metadata": {
    "pycharm": {
     "name": "#%% md\n"
    }
   },
   "source": [
    "Finally, there are many possible optimizations to QAOA. And some of them have been only introduced recently. One idea is to choose the starting point in a smart way by precomputing the rotation angles. Another improvement possibility is when computing the energy of samples to only consider a fraction with the highest probabilities during the measurement. Extreme way would be just to pick up the bitstring with the highest probability and calculate energy for it. Another idea is so called warm starting. It essentially means instead of starting with the ground state with is the equal superposition of all states, to pick a state which is closer to the solution. And of course, adjust the mixer Hamiltonian. Now the limiting factor is the device connectivity. When performing the controlled gates between two qubits, which are not directly connected on the actual hardware, the transpiler introduces SWAP-gates which are very costly in terms of runtime. This of course decreases the performance. \n"
   ]
  }
 ],
 "metadata": {
  "interpreter": {
   "hash": "f8af8a5d58c03aea7fed271afda0c18009a73827ffd40ee9cf6d51ffb766ed25"
  },
  "kernelspec": {
   "display_name": "Python 3",
   "language": "python",
   "name": "python3"
  },
  "language_info": {
   "codemirror_mode": {
    "name": "ipython",
    "version": 3
   },
   "file_extension": ".py",
   "mimetype": "text/x-python",
   "name": "python",
   "nbconvert_exporter": "python",
   "pygments_lexer": "ipython3",
   "version": "3.8.8"
  }
 },
 "nbformat": 4,
 "nbformat_minor": 2
}