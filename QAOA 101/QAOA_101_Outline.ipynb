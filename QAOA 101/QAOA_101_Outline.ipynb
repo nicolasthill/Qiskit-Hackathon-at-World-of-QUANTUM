{
 "cells": [
  {
   "cell_type": "markdown",
   "metadata": {},
   "source": [
    "## Introduction/Motivation\n"
   ]
  },
  {
   "cell_type": "markdown",
   "metadata": {},
   "source": [
    "\n",
    "### 1. Optimization\n",
    "\n",
    "Coming back to our example from just now, trying to optimize y while controlling x thus we are looking for a function f which generates a solution y as y = f(x). The key assumption of any attempt at optimization is the existence of an optimal solution. Alternatively a solution which is sufficiently optimal, generally called $\\hat{y}$. But how do we know how good our solution is? We need to figure out how close it is to the theoretical optimal solution, for this we need a cost function also known as the loss function or simply the loss which we try to minimize\n",
    "\n",
    "A cost function can take many different shapes which depend on the number of parameters, application etc. a general way of writing it is. The simplest example for a cost function is one dimensional meaning we have a curve of which we find the minimum. A tricky situation is non-convex loss function which can lead to being stuck at a local minimum.\n",
    "\n",
    "To make the transition to quantum mechanics, we have to find a way to encode the loss function in a quantum mechanical system. Thinking back to any sort of physics problem, we know that the system always takes the path of least resistance, or occupies the state of least energy. We exploit this very principle when we encode our optimization problem into the hamiltonian of a system. This allows us to find the solution to the problem simply as the ground state of our system. A major advantage of this to the classical state is that the likelihood of finding local minima is a lot lower because of a process called quantum annealing.\n",
    "\n",
    "For Quantum annealing we start the state of the wuantum system in a uniform superposition of all possible states. Then the system evolves following the time-dependent Schrödinger equation, the quantum-mechanical evolution of physical systems as determined by its Hamiltonian. Thus, the amplitudes of all candidate states keep changing, XXX ending up in the ground state: our solution is found."
   ]
  },
  {
   "cell_type": "markdown",
   "source": [
    "### Optimization Take-Aways\n",
    "\n",
    "* Optimize y while controlling x\n",
    "    * Find a function f which generates a solution; y = f(x)\n",
    "* Cost function: the loss that we are trying to minimize\n",
    "* Cost function in quantum mechanics\n",
    "    * The system occupies the state of least energy\n",
    "    * Likelihood of finding a local minimum is lower due to quantum annealing\n",
    "* Quantum annealing\n",
    "    * Start with a uniform superposition of all possible states\n",
    "    * System evolves following the time-dependent Schrödinger equation\n",
    "    * The amplitudes of all candidate states keep changing\n",
    "        * Ending up in the ground state -> solution is found\n",
    "\n"
   ],
   "metadata": {
    "collapsed": false
   }
  },
  {
   "cell_type": "markdown",
   "source": [
    "### 2. QAOA\n",
    "\n",
    "After talking about the general differences between optimization in a classical and a quantum scenario we will continue the lecture looking at a specific optimization algorithm, namely QAOA which stands for Quantum Approximate Optimization Algorithm meaning we have an algorithm which gives an approximately optimal solution using quantum methods. \n",
    "\n",
    "QAOA was designed to solve combinatorial optimization problems. These are the kind of problems which we can express in terms of a particular cost function - a function that esentially tells us how good our solution is. Usually a cost function looks like the following: .... The single constraint is that only linear and quadratic terms are allowed. Solving an optimizational problem means finding a solution which minimizes the cost function. Now how do we minimize this function and how do we take advantage of quantum computing? \n",
    "\n",
    "Before we move on with minimazation, lets talk about the Hamiltonians. Hamiltonian is something that governs the behaviour of any quantum system. It also defines the energies, that our system can be in. QAOA is essentially an algorithm that finds the ground state of a given Hamiltonian - that is the state which corresponds to the lowest energy level. \n",
    "\n",
    "Now the exciting part is that we can translate any cost function, which follows the constraints described above, into a Hamiltonian. Hence, minimizing the cost function is equivalent to finding the ground state of the Hamiltonian. \n",
    "\n",
    "Now how does one find this ground state? To do that we are going to take advantage of a fundamental theorem of quantum physics - the adiabatic thearem - which tells us that if we have a system in its ground state and we transform this system slowly enough, it will remain in its lowest energy state. Our approach will be to take a simple system, for which we know the ground state and transform it into a system, which corresponds to out problem Hamiltonian, while it remains in its ground state. We are going to do it in small steps. "
   ],
   "metadata": {
    "collapsed": false
   }
  },
  {
   "cell_type": "markdown",
   "source": [
    "### QAOA Take-Aways\n",
    "\n",
    "* QAOA: Quantum Approximate Optimization Algorithm\n",
    "    * Gives an approximately optimal solution using quantum methods\n",
    "    * Designed to solve combinatorial optimization problems\n",
    "    * Constraint: only linear and quadratic terms are allowed for the cost function\n",
    "* Hamiltonian: something that governs the behaviour of any quantum system\n",
    "    * Defines the energies that our system can be in\n",
    "    * QAOA finds the ground state (state which corresponds to lowest energy level) of a given Hamiltonian\n",
    "    * We can translate any cost function into a Hamiltonian\n",
    "    * Minimizing the cost function is equivalent to finding the ground state of the Hamiltonian\n",
    "* Adiabatic theorem: if we have a system in its ground state and we transform this system slowly enough, it will remain in its lowest energy state\n",
    "* Constructing a time evolution operator for transformation\n",
    "    * Not trivial because the problem and mixer Hamiltonian don’t compute\n",
    "    * Use trotterizaton formula\n",
    "    * At each step mixer and problem Hamiltonian exponents are supplied with a parameter beta and gamma respectively\n",
    "        * These parameters play a key role because they simulate the adiabatic process\n",
    "    * Naturally one would expect betas to decrease and gammas to increase\n",
    "        * This reflects the fact that weight of the problem Hamiltonian should increase and the weight of mixer decrease\n",
    "* Exponentiating the mixer Hamiltonian\n",
    "    * Applying a rotational X gate to each qubit at an angle 2 beta\n",
    "    * Applying a number of rotational Z gates and controlled rotational Z gates to all the qubits\n",
    "    * Rotations also depend on the coefficients from QUBO matrix\n",
    "* QAOA algorithm\n",
    "    * At each optimization step, measure the state of the parameterized circuit\n",
    "        * Measurement results in a distribution of probabilities\n",
    "    * To evaluate cost, scale the energy for each bitstring that we measured with its probability and take the average\n",
    "    * Classical optimizer now tries to minimize this energy by updating parameter of the circuit\n",
    "    * Measure quantum state after updating parameters\n",
    "    * Continue until optimizer lands in an optimal solution\n"
   ],
   "metadata": {
    "collapsed": false
   }
  },
  {
   "cell_type": "code",
   "execution_count": 14,
   "metadata": {},
   "outputs": [
    {
     "data": {
      "text/html": [
       "<img src=\"images/Adiabatic-quantum-computation.png\"/>"
      ],
      "text/plain": [
       "<IPython.core.display.Image object>"
      ]
     },
     "execution_count": 14,
     "metadata": {},
     "output_type": "execute_result"
    }
   ],
   "source": [
    "Image(url= \"images/Adiabatic-quantum-computation.png\")\n",
    "#source: https://www.researchgate.net/figure/Adiabatic-quantum-computation-The-energy-landscape-is-first-a-simple-one-with-one-global_fig2_315416652"
   ]
  },
  {
   "cell_type": "markdown",
   "metadata": {},
   "source": [
    "Before we can undestand how it is done, we are going to need some mathematical background. \n",
    "\n",
    "As we mentioned, Hamiltonian governs the time evolution of quantum system. In particular in the following way: .... Going back to our idea of transforming a quatum system, we can think of the following transformation: ..... This is the point where we take advantage of quantum computing, because we can prepare this transformation in terms of quantum gates. Now constructing a time evolution operator for this transformation is not trivial, because the problem and mixer Hamiltonian don’t commute. Using the trotterization formula we can express the time evolution operator as a product of p consecutive products of exponentiated mixer and problem Hamiltonian. At each step mixer and problem Hamiltonian exponents are supplied with a parameter beta and gamma respectively. And these parameters play the key role because they sort of simulate the adiabatic process that we want to apply to our system. Naturally one would expect betas to decrease and gammas to increase. This reflects the fact that weight of the problem Hamiltonian should increase and the weight of mixer decrease. \n",
    "\n",
    "And this is something we can directly implement! In fact exponentiating the mixer Hamiltonian results in applying a rotational X gate to each qubit whereby the rotation is performed at an angle 2 beta. Exponentiation the problem Hamiltonian results in applying a number of rotational Z gates and controlled rotational Z gates to all the qubits. Now these rotations also depend on the coefficients in our QUBO matrix. \n",
    "\n",
    "Well, this explains now the layered architecture of QAOA. Let’s look at an example for a simple MAXCUT problem with just one layer that we will see later. At first, we apply H gates to all the qubits to create the ground state of our mixer Hamiltonian. Next follows a row of single rotational Z gates. Next, we have a controlled rotational Z gate between every pair of qubits. Qiskit actually decomposes these gates into two CNOT gates and one rotational X gate which can are available on IBM quantum devices. Finally, we measure our state."
   ]
  },
  {
   "cell_type": "code",
   "execution_count": 18,
   "metadata": {},
   "outputs": [
    {
     "data": {
      "text/html": [
       "<img src=\"images/circ.jpg\"/>"
      ],
      "text/plain": [
       "<IPython.core.display.Image object>"
      ]
     },
     "execution_count": 18,
     "metadata": {},
     "output_type": "execute_result"
    }
   ],
   "source": [
    "Image(url= \"images/circ.jpg\")"
   ]
  },
  {
   "cell_type": "markdown",
   "metadata": {},
   "source": [
    "The whole algorithm looks as follows now. At each optimization step we measure the state of our parametrized circuit. The measurement results in a distribution of probabilities. To evaluate the corresponding energy (that is the cost) we scale the energy for each bitstring that we measured with its probability. And take the average finally. A classical optimizer now tries to minimize this energy by updating parameters of our circuit. As we will see later the role of the optimizer becomes quite crucial. After updating the parameters, we again measure our quantum state. And so on until our optimizer lands in an optimal solution."
   ]
  },
  {
   "cell_type": "code",
   "execution_count": 17,
   "metadata": {},
   "outputs": [
    {
     "data": {
      "text/html": [
       "<img src=\"images/overview.jpg\"/>"
      ],
      "text/plain": [
       "<IPython.core.display.Image object>"
      ]
     },
     "execution_count": 17,
     "metadata": {},
     "output_type": "execute_result"
    }
   ],
   "source": [
    "Image(url= \"images/overview.jpg\")"
   ]
  },
  {
   "cell_type": "markdown",
   "metadata": {},
   "source": [
    "## Implementation\n",
    "\n",
    "We'll now start the daunting task of actually implementing the QAOA algorithm in order to understand how it is able to harness quantum effects to speed up the optimization process.\n",
    "\n",
    "# 1. MaxCut Problem\n",
    "\n",
    "We will do this by solving a problem from graph theory: the max-cut Problem. The objective of max-cut is to split the set of vertices of a graph into two subsets, such that the sum of the weights of the edges having one endpoint in each of the subsets is maximum. This, of course, sound like gibberish to anyone not inimitely familiar with graph theory but we can illustrate it with a scenario every student here is familiar with: passing paper messages in a classroom. Now, the nodes of the graph represent the students and the weights of the edges represent the number of messages passed between two students. Take the following as an example situation: "
   ]
  },
  {
   "cell_type": "markdown",
   "metadata": {},
   "source": [
    "- We have the four students: Anna, Bob, Clara and Diego\n",
    "- Teacher wants to limit communication among students, students think teachers don't notice passing of messages put precise count over one hours was held\n",
    "- the optimization problem is such that the teacher wants to split the students into two separate groups which are unable to communicate while minimizing overall communication\n",
    "- this simple problem the solution is obvious as the teacher should just make two separate rows far enough apart to prevent the passing of notes\n",
    "- reduces total communication from 17 to 3 notes passed\n",
    "\n",
    "Moving onto implementation:\n",
    "\n",
    "Formalizing this graph"
   ]
  },
  {
   "cell_type": "code",
   "execution_count": 3,
   "metadata": {
    "scrolled": true
   },
   "outputs": [
    {
     "data": {
      "image/png": "[encoded data removed]",
      "text/plain": [
       "<Figure size 432x288 with 1 Axes>"
      ]
     },
     "metadata": {},
     "output_type": "display_data"
    }
   ],
   "source": [
    "from IPython.display import Image\n",
    "\n",
    "import networkx as nx   # package used for graphing\n",
    "import numpy as np\n",
    "import matplotlib.pyplot as plt\n",
    "\n",
    "from qiskit import IBMQ, Aer, assemble, transpile, execute\n",
    "from qiskit import QuantumCircuit, ClassicalRegister, QuantumRegister\n",
    "from qiskit.circuit import ParameterVector\n",
    "from qiskit.optimization import QuadraticProgram #CHANGE TO qiskit_optimization\n",
    "#import basic plot tools\n",
    "from qiskit.visualization import plot_histogram\n",
    "\n",
    "\n",
    "graph = nx.Graph()  # create the graph\n",
    "\n",
    "nodes = [0, 1, 2, 3]    # student nodes\n",
    "edges = [(0,1,2.0), (0,3,4.0), (1,3,10.0), (2,3,1.0)]    # weighted by number of messages between students\n",
    "\n",
    "# add nodes and edges to graph\n",
    "graph.add_nodes_from(nodes) \n",
    "graph.add_weighted_edges_from(edges)\n",
    "\n",
    "nx.draw(graph, with_labels=True, alpha=0.8, node_size=500)"
   ]
  },
  {
   "cell_type": "markdown",
   "metadata": {},
   "source": [
    "The next steps of encoding the problem further into a form that the QAOA algorithm can use, namely as QuadraticProgram. Now, translating a weighted graph into a QUBO is very straightforward and can be implemented in the following way, where W is the weight matrix of our graph. "
   ]
  },
  {
   "cell_type": "code",
   "execution_count": 4,
   "metadata": {},
   "outputs": [],
   "source": [
    "def quadratic_program_from_graph(graph: nx.Graph) -> QuadraticProgram:\n",
    "    '''Generates a QuadraticProblem from a graph.\n",
    "    Args:\n",
    "        graph: graph of the problem of class nx.Graph\n",
    "    Returns: \n",
    "        quadratic problem of class QuadraticProgram\n",
    "    '''\n",
    "    # get weight matrix from the graph\n",
    "    weight_matrix = nx.adjacency_matrix(graph)\n",
    "    shape = weight_matrix.shape\n",
    "    size = shape[0] # number of nodes\n",
    "    \n",
    "    # build QUBO matrix Q from weight matrix\n",
    "    qubo_matrix = np.zeros((size, size))\n",
    "    qubo_vector = np.zeros(size)\n",
    "    \n",
    "    for i in range(size):\n",
    "        for j in range(size):\n",
    "            qubo_matrix[i,j] -= weight_matrix[i, j]\n",
    "            qubo_vector[i] += weight_matrix[i,j]\n",
    "            \n",
    "    # define the quadratic program\n",
    "    quadratic_program = QuadraticProgram('maxcut')\n",
    "    \n",
    "    for i in range(size):\n",
    "        var_name = 'x_{}'.format(i)\n",
    "        quadratic_program.binary_var(var_name)\n",
    "        \n",
    "    quadratic_program.maximize(quadratic=qubo_matrix, linear=qubo_vector, constant=0)\n",
    "    \n",
    "    return quadratic_program"
   ]
  },
  {
   "cell_type": "markdown",
   "metadata": {},
   "source": [
    "For this toy problem we have already seen our parametrized circuit. We see that for any pair of connected edges there is RZZ gate. And for non-connected edges the RZZ gates actually has 0 as a parameter so it doesn’t do anything."
   ]
  },
  {
   "cell_type": "code",
   "execution_count": 5,
   "metadata": {},
   "outputs": [],
   "source": [
    "def qaoa_circuit(qubo: QuadraticProgram, gammas, betas, p: int = 1):\n",
    "    '''\n",
    "    Given a QUBO instance and the number of layers, construct \n",
    "    a corresponding parametrized circuit with p layers.\n",
    "    Args:\n",
    "        qubo: The quadratic qubo instance\n",
    "        p: The number of layers in the QAOA circuit\n",
    "    Returns: \n",
    "        The parametrized QAOA circuit\n",
    "    '''\n",
    "    size = len(qubo.variables)\n",
    "    qubo_matrix = qubo.objective.quadratic.to_array(symmetric=True)\n",
    "    qubo_linearity = qubo.objective.linear.to_array()\n",
    "\n",
    "    # Prepare the quantum and classical registers\n",
    "    qaoa_circuit = QuantumCircuit(size, size)\n",
    "    # Apply the initial layer of Hadamard gates to all qubits\n",
    "    qaoa_circuit.h(range(size))\n",
    "\n",
    "    # Outer loop to create eahc layer\n",
    "    for layer in range(p):\n",
    "        # Apply Rz rotational gates from the cost layer\n",
    "        for i in range(size):\n",
    "            w_i = (qubo_linearity[layer] + sum(qubo_matrix[i])) / 2\n",
    "            qaoa_circuit.rz(phi=gammas[layer]*w_i, qubit=i)\n",
    "        # Apply the Rzz rotational gates for entangled qubits from cost layer\n",
    "        for i in range(1,size):\n",
    "            for j in range(i):\n",
    "                w_ij = qubo_matrix[i,j]/4\n",
    "                qaoa_circuit.rzz(theta=gammas[layer]*w_ij, qubit1=i, qubit2=j)\n",
    "        # Apply single qubit Rx rotations from mixer layer to all qubits\n",
    "        qaoa_circuit.barrier()\n",
    "        for i in range(size):\n",
    "            qaoa_circuit.rx(theta=2*betas[layer], qubit=i)\n",
    "\n",
    "    # Measure the result in computational basis\n",
    "    qaoa_circuit.barrier()\n",
    "    qaoa_circuit.measure(range(size), range(size))\n",
    "\n",
    "    return qaoa_circuit"
   ]
  },
  {
   "cell_type": "markdown",
   "metadata": {},
   "source": [
    "Computing energy for a single bitstring is trivial. We can just pluck it in out QUBO problem. For a distribution of measured bitstrings we need to scale the energy with the probability of measuring this bitrsing."
   ]
  },
  {
   "cell_type": "code",
   "execution_count": 6,
   "metadata": {},
   "outputs": [],
   "source": [
    "def compute_energy(qubo: QuadraticProgram, x: str):\n",
    "    \"\"\"\n",
    "    Given a bitstring as a solution, returns\n",
    "    the corresponding energy according to given QUBO.\n",
    "    Args:\n",
    "        qubo: The quadratic qubo instance\n",
    "        x: Solution bitstring      \n",
    "    Returns:\n",
    "        e: Energy\n",
    "    \"\"\"\n",
    "    n = len(x)\n",
    "    v =  np.fromstring(x,'u1') - ord('0')\n",
    "    qubo_matrix = qubo.objective.quadratic.to_array(symmetric=True)\n",
    "    qubo_linearity = qubo.objective.linear.to_array()\n",
    "    e = 0\n",
    "    for i in range(n):\n",
    "        for j in range(n):\n",
    "            e += qubo_matrix[i][j]*v[i]*v[j]\n",
    "    for i in range(n):\n",
    "        e += qubo_linearity[i]*v[i]\n",
    "        \n",
    "    return e"
   ]
  },
  {
   "cell_type": "code",
   "execution_count": 7,
   "metadata": {},
   "outputs": [],
   "source": [
    "def compute_expectation(qubo: QuadraticProgram, counts):\n",
    "    \"\"\"\n",
    "    Computes expectation value based on measurement results\n",
    "    Args:\n",
    "        counts: dict\n",
    "                Key as bitstring, val as count\n",
    "           \n",
    "        qubo: The quadratic qubo instance\n",
    "    Returns:\n",
    "        avg: Expectation value\n",
    "    \"\"\"\n",
    "    avg = 0\n",
    "    sum_count = 0\n",
    "    for bitstring, count in counts.items():\n",
    "        \n",
    "        obj = compute_energy(qubo, bitstring)\n",
    "        avg += obj * count\n",
    "        sum_count += count\n",
    "        \n",
    "    return avg/sum_count   "
   ]
  },
  {
   "cell_type": "code",
   "execution_count": 8,
   "metadata": {},
   "outputs": [],
   "source": [
    "def get_expectation(qubo :QuadraticProgram, gammas: ParameterVector, betas: ParameterVector, p: int = 1, shots = 512):\n",
    "    \"\"\"\n",
    "    Runs parametrized circuit\n",
    "    \n",
    "    Args:\n",
    "        qubo: The quadratic qubo instance\n",
    "        p: Number of repetitions of unitaries\n",
    "        shots: The number of shots\n",
    "    \"\"\"    \n",
    "    qc = qaoa_circuit(qubo, gammas, betas, p)\n",
    "    backend = Aer.get_backend('qasm_simulator')\n",
    "    backend.shots = shots\n",
    "    \n",
    "    counts = execute(qc, backend=backend).result().get_counts(qc)\n",
    "    qc.draw()\n",
    "    return compute_expectation(qubo, counts)"
   ]
  },
  {
   "cell_type": "markdown",
   "metadata": {},
   "source": [
    "For a toy problem like ours we can of course compute the energy for all betas and gammas and get this beautiful energy landscape. As we expected we see the periodicity in parameters beta and gamma, which are just scalars in this case. Well, this is explained by the fact that we apply rotational gates. "
   ]
  },
  {
   "cell_type": "code",
   "execution_count": 9,
   "metadata": {},
   "outputs": [
    {
     "data": {
      "text/html": [
       "<img src=\"images/5nodes.png\" width=\"400\" height=\"400\"/>"
      ],
      "text/plain": [
       "<IPython.core.display.Image object>"
      ]
     },
     "execution_count": 9,
     "metadata": {},
     "output_type": "execute_result"
    }
   ],
   "source": [
    "Image(url= \"images/5nodes.png\", width=400, height=400)"
   ]
  },
  {
   "cell_type": "markdown",
   "metadata": {},
   "source": [
    "Now maximizing the energy function is done by the SCIPY minimizer which tries to find the global peak in this energy landscape. And the wrapper function that we pass to minimizer is just the energy function multiplied with minus one."
   ]
  },
  {
   "cell_type": "code",
   "execution_count": 11,
   "metadata": {},
   "outputs": [
    {
     "ename": "MissingOptionalLibraryError",
     "evalue": "\"The 'qiskit-aer' library is required to use 'Aer provider'. You can install it with 'pip install qiskit-aer'.\"",
     "output_type": "error",
     "traceback": [
      "\u001B[1;31m---------------------------------------------------------------------------\u001B[0m",
      "\u001B[1;31mImportError\u001B[0m                               Traceback (most recent call last)",
      "\u001B[1;32m~\\anaconda3\\lib\\site-packages\\qiskit\\__init__.py\u001B[0m in \u001B[0;36m__getattr__\u001B[1;34m(self, attr)\u001B[0m\n\u001B[0;32m     90\u001B[0m         \u001B[1;34m\"Support for running Qiskit with Python 3.5 will be removed at the \"\u001B[0m\u001B[1;33m\u001B[0m\u001B[1;33m\u001B[0m\u001B[0m\n\u001B[1;32m---> 91\u001B[1;33m         \"Python 3.5 EoL on 09/13/2020.\", DeprecationWarning)\n\u001B[0m\u001B[0;32m     92\u001B[0m \u001B[1;33m\u001B[0m\u001B[0m\n",
      "\u001B[1;32m~\\anaconda3\\lib\\site-packages\\qiskit\\providers\\aer\\__init__.py\u001B[0m in \u001B[0;36m<module>\u001B[1;34m\u001B[0m\n\u001B[0;32m     63\u001B[0m \u001B[1;31m# pylint: disable=wrong-import-position\u001B[0m\u001B[1;33m\u001B[0m\u001B[1;33m\u001B[0m\u001B[1;33m\u001B[0m\u001B[0m\n\u001B[1;32m---> 64\u001B[1;33m \u001B[1;32mfrom\u001B[0m \u001B[1;33m.\u001B[0m\u001B[0maerprovider\u001B[0m \u001B[1;32mimport\u001B[0m \u001B[0mAerProvider\u001B[0m\u001B[1;33m\u001B[0m\u001B[1;33m\u001B[0m\u001B[0m\n\u001B[0m\u001B[0;32m     65\u001B[0m \u001B[1;32mfrom\u001B[0m \u001B[1;33m.\u001B[0m\u001B[0maerjob\u001B[0m \u001B[1;32mimport\u001B[0m \u001B[0mAerJob\u001B[0m\u001B[1;33m\u001B[0m\u001B[1;33m\u001B[0m\u001B[0m\n",
      "\u001B[1;32m~\\anaconda3\\lib\\site-packages\\qiskit\\providers\\aer\\aerprovider.py\u001B[0m in \u001B[0;36m<module>\u001B[1;34m\u001B[0m\n\u001B[0;32m     19\u001B[0m \u001B[1;33m\u001B[0m\u001B[0m\n\u001B[1;32m---> 20\u001B[1;33m \u001B[1;32mfrom\u001B[0m \u001B[1;33m.\u001B[0m\u001B[0mbackends\u001B[0m\u001B[1;33m.\u001B[0m\u001B[0mqasm_simulator\u001B[0m \u001B[1;32mimport\u001B[0m \u001B[0mQasmSimulator\u001B[0m\u001B[1;33m\u001B[0m\u001B[1;33m\u001B[0m\u001B[0m\n\u001B[0m\u001B[0;32m     21\u001B[0m \u001B[1;32mfrom\u001B[0m \u001B[1;33m.\u001B[0m\u001B[0mbackends\u001B[0m\u001B[1;33m.\u001B[0m\u001B[0mstatevector_simulator\u001B[0m \u001B[1;32mimport\u001B[0m \u001B[0mStatevectorSimulator\u001B[0m\u001B[1;33m\u001B[0m\u001B[1;33m\u001B[0m\u001B[0m\n",
      "\u001B[1;32m~\\anaconda3\\lib\\site-packages\\qiskit\\providers\\aer\\backends\\__init__.py\u001B[0m in \u001B[0;36m<module>\u001B[1;34m\u001B[0m\n\u001B[0;32m     16\u001B[0m \u001B[1;33m\u001B[0m\u001B[0m\n\u001B[1;32m---> 17\u001B[1;33m \u001B[1;32mfrom\u001B[0m \u001B[1;33m.\u001B[0m\u001B[0mqasm_simulator\u001B[0m \u001B[1;32mimport\u001B[0m \u001B[0mQasmSimulator\u001B[0m\u001B[1;33m\u001B[0m\u001B[1;33m\u001B[0m\u001B[0m\n\u001B[0m\u001B[0;32m     18\u001B[0m \u001B[1;32mfrom\u001B[0m \u001B[1;33m.\u001B[0m\u001B[0mstatevector_simulator\u001B[0m \u001B[1;32mimport\u001B[0m \u001B[0mStatevectorSimulator\u001B[0m\u001B[1;33m\u001B[0m\u001B[1;33m\u001B[0m\u001B[0m\n",
      "\u001B[1;32m~\\anaconda3\\lib\\site-packages\\qiskit\\providers\\aer\\backends\\qasm_simulator.py\u001B[0m in \u001B[0;36m<module>\u001B[1;34m\u001B[0m\n\u001B[0;32m     20\u001B[0m \u001B[1;32mfrom\u001B[0m \u001B[0mqiskit\u001B[0m\u001B[1;33m.\u001B[0m\u001B[0mproviders\u001B[0m\u001B[1;33m.\u001B[0m\u001B[0mmodels\u001B[0m \u001B[1;32mimport\u001B[0m \u001B[0mQasmBackendConfiguration\u001B[0m\u001B[1;33m\u001B[0m\u001B[1;33m\u001B[0m\u001B[0m\n\u001B[1;32m---> 21\u001B[1;33m \u001B[1;32mfrom\u001B[0m \u001B[1;33m.\u001B[0m\u001B[0maerbackend\u001B[0m \u001B[1;32mimport\u001B[0m \u001B[0mAerBackend\u001B[0m\u001B[1;33m\u001B[0m\u001B[1;33m\u001B[0m\u001B[0m\n\u001B[0m\u001B[0;32m     22\u001B[0m \u001B[1;31m# pylint: disable=import-error\u001B[0m\u001B[1;33m\u001B[0m\u001B[1;33m\u001B[0m\u001B[1;33m\u001B[0m\u001B[0m\n",
      "\u001B[1;32m~\\anaconda3\\lib\\site-packages\\qiskit\\providers\\aer\\backends\\aerbackend.py\u001B[0m in \u001B[0;36m<module>\u001B[1;34m\u001B[0m\n\u001B[0;32m     26\u001B[0m \u001B[1;32mfrom\u001B[0m \u001B[0mqiskit\u001B[0m\u001B[1;33m.\u001B[0m\u001B[0mproviders\u001B[0m\u001B[1;33m.\u001B[0m\u001B[0mmodels\u001B[0m \u001B[1;32mimport\u001B[0m \u001B[0mBackendStatus\u001B[0m\u001B[1;33m\u001B[0m\u001B[1;33m\u001B[0m\u001B[0m\n\u001B[1;32m---> 27\u001B[1;33m \u001B[1;32mfrom\u001B[0m \u001B[0mqiskit\u001B[0m\u001B[1;33m.\u001B[0m\u001B[0mqobj\u001B[0m \u001B[1;32mimport\u001B[0m \u001B[0mvalidate_qobj_against_schema\u001B[0m\u001B[1;33m\u001B[0m\u001B[1;33m\u001B[0m\u001B[0m\n\u001B[0m\u001B[0;32m     28\u001B[0m \u001B[1;32mfrom\u001B[0m \u001B[0mqiskit\u001B[0m\u001B[1;33m.\u001B[0m\u001B[0mresult\u001B[0m \u001B[1;32mimport\u001B[0m \u001B[0mResult\u001B[0m\u001B[1;33m\u001B[0m\u001B[1;33m\u001B[0m\u001B[0m\n",
      "\u001B[1;31mImportError\u001B[0m: cannot import name 'validate_qobj_against_schema' from 'qiskit.qobj' (C:\\Users\\ivash\\anaconda3\\lib\\site-packages\\qiskit\\qobj\\__init__.py)",
      "\nThe above exception was the direct cause of the following exception:\n",
      "\u001B[1;31mMissingOptionalLibraryError\u001B[0m               Traceback (most recent call last)",
      "\u001B[1;32m<ipython-input-11-dcd0ceaf4bbf>\u001B[0m in \u001B[0;36m<module>\u001B[1;34m\u001B[0m\n\u001B[0;32m      7\u001B[0m \u001B[1;31m# perform the optimization using SCIPY\u001B[0m\u001B[1;33m\u001B[0m\u001B[1;33m\u001B[0m\u001B[1;33m\u001B[0m\u001B[0m\n\u001B[0;32m      8\u001B[0m \u001B[1;32mfrom\u001B[0m \u001B[0mscipy\u001B[0m\u001B[1;33m.\u001B[0m\u001B[0moptimize\u001B[0m \u001B[1;32mimport\u001B[0m \u001B[0mminimize\u001B[0m\u001B[1;33m\u001B[0m\u001B[1;33m\u001B[0m\u001B[0m\n\u001B[1;32m----> 9\u001B[1;33m \u001B[0mres\u001B[0m \u001B[1;33m=\u001B[0m \u001B[0mminimize\u001B[0m\u001B[1;33m(\u001B[0m\u001B[0mwrapper\u001B[0m\u001B[1;33m,\u001B[0m \u001B[0mx0\u001B[0m\u001B[1;33m=\u001B[0m\u001B[1;33m[\u001B[0m\u001B[1;36m0.0\u001B[0m\u001B[1;33m,\u001B[0m \u001B[1;36m1.0\u001B[0m\u001B[1;33m]\u001B[0m\u001B[1;33m,\u001B[0m \u001B[0mmethod\u001B[0m\u001B[1;33m=\u001B[0m\u001B[1;34m'COBYLA'\u001B[0m\u001B[1;33m)\u001B[0m\u001B[1;33m\u001B[0m\u001B[1;33m\u001B[0m\u001B[0m\n\u001B[0m\u001B[0;32m     10\u001B[0m \u001B[0mres\u001B[0m\u001B[1;33m\u001B[0m\u001B[1;33m\u001B[0m\u001B[0m\n",
      "\u001B[1;32m~\\anaconda3\\lib\\site-packages\\scipy\\optimize\\_minimize.py\u001B[0m in \u001B[0;36mminimize\u001B[1;34m(fun, x0, args, method, jac, hess, hessp, bounds, constraints, tol, callback, options)\u001B[0m\n\u001B[0;32m    623\u001B[0m                              **options)\n\u001B[0;32m    624\u001B[0m     \u001B[1;32melif\u001B[0m \u001B[0mmeth\u001B[0m \u001B[1;33m==\u001B[0m \u001B[1;34m'cobyla'\u001B[0m\u001B[1;33m:\u001B[0m\u001B[1;33m\u001B[0m\u001B[1;33m\u001B[0m\u001B[0m\n\u001B[1;32m--> 625\u001B[1;33m         \u001B[1;32mreturn\u001B[0m \u001B[0m_minimize_cobyla\u001B[0m\u001B[1;33m(\u001B[0m\u001B[0mfun\u001B[0m\u001B[1;33m,\u001B[0m \u001B[0mx0\u001B[0m\u001B[1;33m,\u001B[0m \u001B[0margs\u001B[0m\u001B[1;33m,\u001B[0m \u001B[0mconstraints\u001B[0m\u001B[1;33m,\u001B[0m \u001B[1;33m**\u001B[0m\u001B[0moptions\u001B[0m\u001B[1;33m)\u001B[0m\u001B[1;33m\u001B[0m\u001B[1;33m\u001B[0m\u001B[0m\n\u001B[0m\u001B[0;32m    626\u001B[0m     \u001B[1;32melif\u001B[0m \u001B[0mmeth\u001B[0m \u001B[1;33m==\u001B[0m \u001B[1;34m'slsqp'\u001B[0m\u001B[1;33m:\u001B[0m\u001B[1;33m\u001B[0m\u001B[1;33m\u001B[0m\u001B[0m\n\u001B[0;32m    627\u001B[0m         return _minimize_slsqp(fun, x0, args, jac, bounds,\n",
      "\u001B[1;32m~\\anaconda3\\lib\\site-packages\\scipy\\optimize\\cobyla.py\u001B[0m in \u001B[0;36mwrapper\u001B[1;34m(*args, **kwargs)\u001B[0m\n\u001B[0;32m     32\u001B[0m     \u001B[1;32mdef\u001B[0m \u001B[0mwrapper\u001B[0m\u001B[1;33m(\u001B[0m\u001B[1;33m*\u001B[0m\u001B[0margs\u001B[0m\u001B[1;33m,\u001B[0m \u001B[1;33m**\u001B[0m\u001B[0mkwargs\u001B[0m\u001B[1;33m)\u001B[0m\u001B[1;33m:\u001B[0m\u001B[1;33m\u001B[0m\u001B[1;33m\u001B[0m\u001B[0m\n\u001B[0;32m     33\u001B[0m         \u001B[1;32mwith\u001B[0m \u001B[0m_module_lock\u001B[0m\u001B[1;33m:\u001B[0m\u001B[1;33m\u001B[0m\u001B[1;33m\u001B[0m\u001B[0m\n\u001B[1;32m---> 34\u001B[1;33m             \u001B[1;32mreturn\u001B[0m \u001B[0mfunc\u001B[0m\u001B[1;33m(\u001B[0m\u001B[1;33m*\u001B[0m\u001B[0margs\u001B[0m\u001B[1;33m,\u001B[0m \u001B[1;33m**\u001B[0m\u001B[0mkwargs\u001B[0m\u001B[1;33m)\u001B[0m\u001B[1;33m\u001B[0m\u001B[1;33m\u001B[0m\u001B[0m\n\u001B[0m\u001B[0;32m     35\u001B[0m     \u001B[1;32mreturn\u001B[0m \u001B[0mwrapper\u001B[0m\u001B[1;33m\u001B[0m\u001B[1;33m\u001B[0m\u001B[0m\n\u001B[0;32m     36\u001B[0m \u001B[1;33m\u001B[0m\u001B[0m\n",
      "\u001B[1;32m~\\anaconda3\\lib\\site-packages\\scipy\\optimize\\cobyla.py\u001B[0m in \u001B[0;36m_minimize_cobyla\u001B[1;34m(fun, x0, args, constraints, rhobeg, tol, maxiter, disp, catol, **unknown_options)\u001B[0m\n\u001B[0;32m    258\u001B[0m \u001B[1;33m\u001B[0m\u001B[0m\n\u001B[0;32m    259\u001B[0m     \u001B[0minfo\u001B[0m \u001B[1;33m=\u001B[0m \u001B[0mnp\u001B[0m\u001B[1;33m.\u001B[0m\u001B[0mzeros\u001B[0m\u001B[1;33m(\u001B[0m\u001B[1;36m4\u001B[0m\u001B[1;33m,\u001B[0m \u001B[0mnp\u001B[0m\u001B[1;33m.\u001B[0m\u001B[0mfloat64\u001B[0m\u001B[1;33m)\u001B[0m\u001B[1;33m\u001B[0m\u001B[1;33m\u001B[0m\u001B[0m\n\u001B[1;32m--> 260\u001B[1;33m     xopt, info = _cobyla.minimize(calcfc, m=m, x=np.copy(x0), rhobeg=rhobeg,\n\u001B[0m\u001B[0;32m    261\u001B[0m                                   \u001B[0mrhoend\u001B[0m\u001B[1;33m=\u001B[0m\u001B[0mrhoend\u001B[0m\u001B[1;33m,\u001B[0m \u001B[0miprint\u001B[0m\u001B[1;33m=\u001B[0m\u001B[0miprint\u001B[0m\u001B[1;33m,\u001B[0m \u001B[0mmaxfun\u001B[0m\u001B[1;33m=\u001B[0m\u001B[0mmaxfun\u001B[0m\u001B[1;33m,\u001B[0m\u001B[1;33m\u001B[0m\u001B[1;33m\u001B[0m\u001B[0m\n\u001B[0;32m    262\u001B[0m                                   dinfo=info)\n",
      "\u001B[1;32m~\\anaconda3\\lib\\site-packages\\scipy\\optimize\\cobyla.py\u001B[0m in \u001B[0;36mcalcfc\u001B[1;34m(x, con)\u001B[0m\n\u001B[0;32m    250\u001B[0m \u001B[1;33m\u001B[0m\u001B[0m\n\u001B[0;32m    251\u001B[0m     \u001B[1;32mdef\u001B[0m \u001B[0mcalcfc\u001B[0m\u001B[1;33m(\u001B[0m\u001B[0mx\u001B[0m\u001B[1;33m,\u001B[0m \u001B[0mcon\u001B[0m\u001B[1;33m)\u001B[0m\u001B[1;33m:\u001B[0m\u001B[1;33m\u001B[0m\u001B[1;33m\u001B[0m\u001B[0m\n\u001B[1;32m--> 252\u001B[1;33m         \u001B[0mf\u001B[0m \u001B[1;33m=\u001B[0m \u001B[0mfun\u001B[0m\u001B[1;33m(\u001B[0m\u001B[0mx\u001B[0m\u001B[1;33m,\u001B[0m \u001B[1;33m*\u001B[0m\u001B[0margs\u001B[0m\u001B[1;33m)\u001B[0m\u001B[1;33m\u001B[0m\u001B[1;33m\u001B[0m\u001B[0m\n\u001B[0m\u001B[0;32m    253\u001B[0m         \u001B[0mi\u001B[0m \u001B[1;33m=\u001B[0m \u001B[1;36m0\u001B[0m\u001B[1;33m\u001B[0m\u001B[1;33m\u001B[0m\u001B[0m\n\u001B[0;32m    254\u001B[0m         \u001B[1;32mfor\u001B[0m \u001B[0msize\u001B[0m\u001B[1;33m,\u001B[0m \u001B[0mc\u001B[0m \u001B[1;32min\u001B[0m \u001B[0mizip\u001B[0m\u001B[1;33m(\u001B[0m\u001B[0mcons_lengths\u001B[0m\u001B[1;33m,\u001B[0m \u001B[0mconstraints\u001B[0m\u001B[1;33m)\u001B[0m\u001B[1;33m:\u001B[0m\u001B[1;33m\u001B[0m\u001B[1;33m\u001B[0m\u001B[0m\n",
      "\u001B[1;32m<ipython-input-11-dcd0ceaf4bbf>\u001B[0m in \u001B[0;36mwrapper\u001B[1;34m(x)\u001B[0m\n\u001B[0;32m      3\u001B[0m \u001B[1;33m\u001B[0m\u001B[0m\n\u001B[0;32m      4\u001B[0m \u001B[1;32mdef\u001B[0m \u001B[0mwrapper\u001B[0m\u001B[1;33m(\u001B[0m\u001B[0mx\u001B[0m\u001B[1;33m)\u001B[0m\u001B[1;33m:\u001B[0m\u001B[1;33m\u001B[0m\u001B[1;33m\u001B[0m\u001B[0m\n\u001B[1;32m----> 5\u001B[1;33m     \u001B[1;32mreturn\u001B[0m \u001B[1;33m-\u001B[0m\u001B[1;36m1\u001B[0m\u001B[1;33m*\u001B[0m\u001B[0mget_expectation\u001B[0m\u001B[1;33m(\u001B[0m\u001B[0mqubo\u001B[0m\u001B[1;33m,\u001B[0m \u001B[1;33m[\u001B[0m\u001B[0mx\u001B[0m\u001B[1;33m[\u001B[0m\u001B[1;36m0\u001B[0m\u001B[1;33m]\u001B[0m\u001B[1;33m]\u001B[0m\u001B[1;33m,\u001B[0m \u001B[1;33m[\u001B[0m\u001B[0mx\u001B[0m\u001B[1;33m[\u001B[0m\u001B[1;36m1\u001B[0m\u001B[1;33m]\u001B[0m\u001B[1;33m]\u001B[0m\u001B[1;33m,\u001B[0m \u001B[0mp\u001B[0m\u001B[1;33m=\u001B[0m\u001B[1;36m1\u001B[0m\u001B[1;33m)\u001B[0m\u001B[1;33m\u001B[0m\u001B[1;33m\u001B[0m\u001B[0m\n\u001B[0m\u001B[0;32m      6\u001B[0m \u001B[1;33m\u001B[0m\u001B[0m\n\u001B[0;32m      7\u001B[0m \u001B[1;31m# perform the optimization using SCIPY\u001B[0m\u001B[1;33m\u001B[0m\u001B[1;33m\u001B[0m\u001B[1;33m\u001B[0m\u001B[0m\n",
      "\u001B[1;32m<ipython-input-8-003639bf4ded>\u001B[0m in \u001B[0;36mget_expectation\u001B[1;34m(qubo, gammas, betas, p, shots)\u001B[0m\n\u001B[0;32m      9\u001B[0m     \"\"\"    \n\u001B[0;32m     10\u001B[0m     \u001B[0mqc\u001B[0m \u001B[1;33m=\u001B[0m \u001B[0mqaoa_circuit\u001B[0m\u001B[1;33m(\u001B[0m\u001B[0mqubo\u001B[0m\u001B[1;33m,\u001B[0m \u001B[0mgammas\u001B[0m\u001B[1;33m,\u001B[0m \u001B[0mbetas\u001B[0m\u001B[1;33m,\u001B[0m \u001B[0mp\u001B[0m\u001B[1;33m)\u001B[0m\u001B[1;33m\u001B[0m\u001B[1;33m\u001B[0m\u001B[0m\n\u001B[1;32m---> 11\u001B[1;33m     \u001B[0mbackend\u001B[0m \u001B[1;33m=\u001B[0m \u001B[0mAer\u001B[0m\u001B[1;33m.\u001B[0m\u001B[0mget_backend\u001B[0m\u001B[1;33m(\u001B[0m\u001B[1;34m'qasm_simulator'\u001B[0m\u001B[1;33m)\u001B[0m\u001B[1;33m\u001B[0m\u001B[1;33m\u001B[0m\u001B[0m\n\u001B[0m\u001B[0;32m     12\u001B[0m     \u001B[0mbackend\u001B[0m\u001B[1;33m.\u001B[0m\u001B[0mshots\u001B[0m \u001B[1;33m=\u001B[0m \u001B[0mshots\u001B[0m\u001B[1;33m\u001B[0m\u001B[1;33m\u001B[0m\u001B[0m\n\u001B[0;32m     13\u001B[0m \u001B[1;33m\u001B[0m\u001B[0m\n",
      "\u001B[1;32m~\\anaconda3\\lib\\site-packages\\qiskit\\__init__.py\u001B[0m in \u001B[0;36m__getattr__\u001B[1;34m(self, attr)\u001B[0m\n\u001B[0;32m     93\u001B[0m \u001B[1;33m\u001B[0m\u001B[0m\n\u001B[0;32m     94\u001B[0m \u001B[0m__qiskit_version__\u001B[0m \u001B[1;33m=\u001B[0m \u001B[0m_get_qiskit_versions\u001B[0m\u001B[1;33m(\u001B[0m\u001B[1;33m)\u001B[0m\u001B[1;33m\u001B[0m\u001B[1;33m\u001B[0m\u001B[0m\n",
      "\u001B[1;31mMissingOptionalLibraryError\u001B[0m: \"The 'qiskit-aer' library is required to use 'Aer provider'. You can install it with 'pip install qiskit-aer'.\""
     ]
    }
   ],
   "source": [
    "# define our quadratic problem\n",
    "qubo = quadratic_program_from_graph(graph)\n",
    "\n",
    "def wrapper(x):\n",
    "    return -1*get_expectation(qubo, [x[0]], [x[1]], p=1)\n",
    "\n",
    "# perform the optimization using SCIPY \n",
    "from scipy.optimize import minimize   \n",
    "res = minimize(wrapper, x0=[0.0, 1.0], method='COBYLA')\n",
    "res     "
   ]
  },
  {
   "cell_type": "markdown",
   "metadata": {},
   "source": [
    "Finally, there are many possible optimizations to QAOA. And some of them have been only introduced recently. One idea is to choose the starting point in a smart way by precomputing the rotation angles. Another improvement possibility is when computing the energy of samples to only consider a fraction with the highest probabilities during the measurement. Extreme way would be just to pick up the bitstring with the highest probability and calculate energy for it. Another idea is so called warm starting. It essentially means instead of starting with the ground state with is the equal superposition of all states, to pick a state which is closer to the solution. And of course, adjust the mixer Hamiltonian. Now the limiting factor is the device connectivity. When performing the controlled gates between two qubits, which are not directly connected on the actual hardware, the transpiler introduces SWAP-gates which are very costly in terms of runtime. This of course decreases the performance. "
   ]
  },
  {
   "cell_type": "markdown",
   "metadata": {},
   "source": [
    "\n",
    "## Qiskit\n"
   ]
  },
  {
   "cell_type": "markdown",
   "metadata": {},
   "source": [
    "\n",
    "Qiskit is an open-source SDK for working with quantum computers. [documentation](https://qiskit.org)\n",
    "\n",
    "QAOA has already been implemented by Qiskit which directly extends VQE and inherits VQE’s optimization structure. However, QAOA uses its own fine-tuned ansatz, which comprises parameterized global x rotations and p different parameterizations of the problem hamiltonian."
   ]
  },
  {
   "cell_type": "markdown",
   "metadata": {
    "pycharm": {
     "name": "#%% md\n"
    }
   },
   "source": [
    "```python\n",
    "CLASSQAOA(optimizer=None, reps=1, initial_state=None, mixer=None, initial_point=None, gradient=None, expectation=None, include_custom=False, max_evals_grouped=1, callback=None, quantum_instance=None)\n",
    "```"
   ]
  },
  {
   "cell_type": "markdown",
   "metadata": {},
   "source": [
    "#### Important parameters:\n",
    "\n",
    "__optimizer__: a classical optimizer\n",
    "\n",
    "__reps__: the integer parameter p\n",
    "\n",
    "__initial_point__: initial parameter values for the optimizer (optional) may be provided as the starting beta and gamma parameters\n",
    "\n",
    "Other parameters [here](https://qiskit.org/textbook/ch-applications/qaoa.html)"
   ]
  },
  {
   "cell_type": "markdown",
   "metadata": {},
   "source": [
    "#### MaxCut Implementation using Qiskit\n",
    "\n",
    "## Fields of Application\n"
   ]
  },
  {
   "cell_type": "markdown",
   "metadata": {},
   "source": [
    "## Additional Resourses @Irene\n",
    "@TODO: add this to presentation slide for students and remove from here\n",
    "1. [Documentation on solving otimization problems using Qiskit](https://qiskit.org/textbook/ch-applications/qaoa.html)"
   ]
  }
 ],
 "metadata": {
  "interpreter": {
   "hash": "f8af8a5d58c03aea7fed271afda0c18009a73827ffd40ee9cf6d51ffb766ed25"
  },
  "kernelspec": {
   "display_name": "Python 3",
   "language": "python",
   "name": "python3"
  },
  "language_info": {
   "codemirror_mode": {
    "name": "ipython",
    "version": 3
   },
   "file_extension": ".py",
   "mimetype": "text/x-python",
   "name": "python",
   "nbconvert_exporter": "python",
   "pygments_lexer": "ipython3",
   "version": "3.8.8"
  }
 },
 "nbformat": 4,
 "nbformat_minor": 2
}