{
 "cells": [
  {
   "cell_type": "markdown",
   "metadata": {},
   "source": [
    "## Introduction/Motivation\n",
    "\n",
    "## Theory\n",
    "\n",
    "# 1. Optimization\n",
    "\n",
    "Coming back to our example from just now, trying to optimize y while controlling x thus we are looking for a function f which generates a solution y as y = f(x). The key assumption of any attempt at optimization is the existence of an optimal solution. Alternatively a solution which is sufficiently optimal, generally called $\\hat{y}$. But how do we know how good our solution is? We need to figure out how close it is to the theoretical optimal solution, for this we need a cost function also known as the loss function or simply the loss which we try to minimize\n",
    "\n",
    "A cost function can take many different shapes which depend on the number of parameters, application etc. a general way of writing it is. The simplest example for a cost function is one dimensional meaning we have a curve of which we find the minimum. A tricky situation is non-convex loss function which can lead to being stuck at a local minimum.\n",
    "\n",
    "To make the transition to quantum mechanics, we have to find a way to encode the loss function in a quantum mechanical system. Thinking back to any sort of physics problem, we know that the system always takes the path of least resistance, or occupies the state of least energy. We exploit this very principle when we encode our optimization problem into the hamiltonian of a system. This allows us to find the solution to the problem simply as the ground state of our system. A major advantage of this to the classical state is that the likelihood of finding local minima is a lot lower because of a process called quantum annealing.\n",
    "\n",
    "For Quantum annealing we start the state of the wuantum system in a uniform superposition of all possible states. Then the system evolves following the time-dependent Schrödinger equation, the quantum-mechanical evolution of physical systems as determined by its Hamiltonian. Thus, the amplitudes of all candidate states keep changing, XXX ending up in the ground state: our solution is found.\n",
    "\n",
    "# 2. QAOA\n",
    "\n",
    "After talking about the general differences between optimization in a classical and a quantum scenario we will continue the lecture looking at a specific optimization algorithm, namely QAOA which stands for Quantum Approximate Optimization Algorithm meaning we have an algorithm which gives an approximately optimal solution using quantum methods.\n",
    "\n",
    "\n",
    "## Implementation\n",
    "\n",
    "We'll now start the daunting task of actually implementing the QAOA algorithm in order to understand how it is able to harness quantum effects to speed up the optimization process.\n",
    "\n",
    "# 1. MaxCut Problem\n",
    "\n",
    "We will do this by solving a problem from graph theory: the max-cut Problem. The objective of max-cut is to split the set of vertices of a graph into two subsets, such that the sum of the weights of the edges having one endpoint in each of the subsets is maximum. This, of course, sound like gibberish to anyone not inimitely familiar with graph theory but we can illustrate it with a scenario every student here is familiar with: passing paper messages in a classroom. Now, the nodes of the graph represent the students and the weights of the edges represent the number of messages passed between two students. Take the following as an example situation: \n",
    "\n",
    "![alt text](Images/Classroom_uncut.png)\n",
    "\n",
    "As the teacher, I of course want to limit communication among my students, a simple way to do this is to \n",
    "\n",
    "\n",
    "## Qiskit\n",
    "\n",
    "## Fields of Application"
   ]
  }
 ],
 "metadata": {
  "interpreter": {
   "hash": "f8af8a5d58c03aea7fed271afda0c18009a73827ffd40ee9cf6d51ffb766ed25"
  },
  "kernelspec": {
   "display_name": "Python 3.8.8 ('base')",
   "language": "python",
   "name": "python3"
  },
  "language_info": {
   "name": "python",
   "version": "3.8.8"
  },
  "orig_nbformat": 4
 },
 "nbformat": 4,
 "nbformat_minor": 2
}
