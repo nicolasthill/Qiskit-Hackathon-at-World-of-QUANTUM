{
 "cells": [
  {
   "cell_type": "code",
   "execution_count": null,
   "metadata": {
    "collapsed": true
   },
   "outputs": [],
   "source": []
  },
  {
   "cell_type": "markdown",
   "source": [
    "\n",
    "## 1. Optimization\n",
    "\n",
    "Coming back to our example from just now, trying to optimize y while controlling x thus we are looking for a function f\n",
    "which generates a solution y as y = f(x). The key assumption of any attempt at optimization is the existence of an\n",
    "optimal solution. Alternatively a solution which is sufficiently optimal, generally called $\\hat{y}$. But how do we know\n",
    "how good our solution is? We need to figure out how close it is to the theoretical optimal solution, for this we need a\n",
    "cost function also known as the loss function or simply the loss which we try to minimize\n",
    "\n",
    "A cost function can take many different shapes which depend on the number of parameters, application etc. a general way\n",
    "of writing it is. The simplest example for a cost function is one dimensional meaning we have a curve of which we find\n",
    "the minimum. A tricky situation is non-convex loss function which can lead to being stuck at a local minimum.\n",
    "\n",
    "To make the transition to quantum mechanics, we have to find a way to encode the loss function in a quantum mechanical\n",
    "system. Thinking back to any sort of physics problem, we know that the system always takes the path of least resistance,\n",
    "or occupies the state of least energy. We exploit this very principle when we encode our optimization problem into the\n",
    "hamiltonian of a system. This allows us to find the solution to the problem simply as the ground state of our system. A\n",
    "major advantage of this to the classical state is that the likelihood of finding local minima is a lot lower because of\n",
    "a process called quantum annealing.\n",
    "\n",
    "For Quantum annealing we start the state of the quantum system in a uniform superposition of all possible states. Then\n",
    "the system evolves following the time-dependent Schrödinger equation, the quantum-mechanical evolution of physical\n",
    "systems as determined by its Hamiltonian. Thus, the amplitudes of all candidate states keep changing, XXX ending up in\n",
    "the ground state: our solution is found."
   ],
   "metadata": {
    "collapsed": false
   }
  },
  {
   "cell_type": "markdown",
   "source": [
    "### 2. QAOA\n",
    "\n",
    "After talking about the general differences between optimization in a classical and a quantum scenario we will continue\n",
    "the lecture looking at a specific optimization algorithm, namely QAOA which stands for Quantum Approximate Optimization\n",
    "Algorithm meaning we have an algorithm which gives an approximately optimal solution using quantum methods.\n",
    "\n",
    "QAOA was designed to solve combinatorial optimization problems. These are the kind of problems which we can express in\n",
    "terms of a particular cost function - a function that essentially tells us how good our solution is. Usually a cost\n",
    "function looks like the following:\n",
    "\n",
    "$\n",
    "C(x) = \\sum\\limits_{i,j=1} ^{n} x_{i}Q_{ij}x_{j} + \\sum\\limits_{i=1} ^{n}c_{i}x_{i}\n",
    "$\n",
    "\n",
    "The single constraint is that only linear and quadratic terms are allowed.\n",
    "Solving an optimization problem means finding a solution which minimizes the cost function. Now how do we minimize\n",
    "this function and how do we take advantage of quantum computing?\n",
    "\n",
    "Before we move on with minimization, lets talk about the Hamiltonians. Hamiltonian is something that governs the\n",
    "behaviour of any quantum system. It also defines the energies, that our system can be in. QAOA is essentially an\n",
    "algorithm that finds the ground state of a given Hamiltonian - that is the state which corresponds to the lowest energy\n",
    "level.\n",
    "\n",
    "Now the exciting part is that we can translate any cost function, which follows the constraints described above, into a\n",
    "Hamiltonian. Hence, minimizing the cost function is equivalent to finding the ground state of the Hamiltonian.\n",
    "\n",
    "Now how does one find this ground state? To do that we are going to take advantage of a fundamental theorem of quantum\n",
    "physics - the adiabatic theorem - which tells us that if we have a system in its ground state and we transform this\n",
    "system slowly enough, it will remain in its lowest energy state. Our approach will be to take a simple system, for which\n",
    "we know the ground state and transform it into a system, which corresponds to out problem Hamiltonian, while it remains\n",
    "in its ground state. We are going to do it in small steps.\n"
   ],
   "metadata": {
    "collapsed": false
   }
  }
 ],
 "metadata": {
  "kernelspec": {
   "display_name": "Python 3",
   "language": "python",
   "name": "python3"
  },
  "language_info": {
   "codemirror_mode": {
    "name": "ipython",
    "version": 2
   },
   "file_extension": ".py",
   "mimetype": "text/x-python",
   "name": "python",
   "nbconvert_exporter": "python",
   "pygments_lexer": "ipython2",
   "version": "2.7.6"
  }
 },
 "nbformat": 4,
 "nbformat_minor": 0
}