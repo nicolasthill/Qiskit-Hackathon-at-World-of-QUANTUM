{
 "cells": [
  {
   "cell_type": "markdown",
   "metadata": {
    "collapsed": false
   },
   "source": [
    "\n",
    "## QAOA with Qiskit\n"
   ]
  },
  {
   "cell_type": "markdown",
   "metadata": {
    "collapsed": false
   },
   "source": [
    "\n",
    "Qiskit is an open-source SDK for working with quantum computers. [documentation](https://qiskit.org)\n",
    "\n",
    "QAOA has already been implemented by Qiskit which directly extends VQE and inherits VQE’s optimization structure. However, QAOA uses its own fine-tuned ansatz, which comprises parameterized global x rotations and p different parameterizations of the problem hamiltonian."
   ]
  },
  {
   "cell_type": "markdown",
   "metadata": {
    "collapsed": false
   },
   "source": [
    "```python\n",
    "CLASSQAOA(optimizer=None, reps=1, initial_state=None, mixer=None, initial_point=None, gradient=None, expectation=None, include_custom=False, max_evals_grouped=1, callback=None, quantum_instance=None)\n",
    "```"
   ]
  },
  {
   "cell_type": "markdown",
   "metadata": {
    "collapsed": false
   },
   "source": [
    "#### Important parameters:\n",
    "\n",
    "__optimizer__: a classical optimizer\n",
    "\n",
    "__reps__: the integer parameter p\n",
    "\n",
    "__initial_point__: initial parameter values for the optimizer (optional) may be provided as the starting beta and gamma parameters\n",
    "\n",
    "__quantum_instance__ : specify quantum instance or backend\n",
    "\n",
    "Other parameters [here](https://qiskit.org/textbook/ch-applications/qaoa.html)"
   ]
  },
  {
   "cell_type": "markdown",
   "metadata": {
    "collapsed": false
   },
   "source": [
    "### MaxCut Implementation using Qiskit"
   ]
  },
  {
   "cell_type": "markdown",
   "id": "1c3fecf7-099e-4753-a36c-2d01815b856b",
   "metadata": {},
   "source": [
    "Using Qiskit's implemetation of QAOA we can solve optimizational problems in just a few lines of code."
   ]
  },
  {
   "cell_type": "code",
   "execution_count": 11,
   "id": "9707cff3-fbe6-42e7-ab0b-cf3362bbefc1",
   "metadata": {},
   "outputs": [],
   "source": [
    "#import the useful modules and optimizers\n",
    "import qiskit\n",
    "import networkx as nx\n",
    "import numpy as np\n",
    "from qiskit import Aer\n",
    "from qiskit.algorithms import QAOA\n",
    "from qiskit_optimization import QuadraticProgram\n",
    "from qiskit.algorithms.optimizers import ADAM, SLSQP, COBYLA\n",
    "from qiskit_optimization.algorithms import MinimumEigenOptimizer"
   ]
  },
  {
   "cell_type": "code",
   "execution_count": 8,
   "id": "806a37be-a2ba-4f90-82a8-f4fe6bba28ac",
   "metadata": {},
   "outputs": [],
   "source": [
    "def quadratic_program_from_graph(graph: nx.Graph) -> QuadraticProgram:\n",
    "    '''Constructs a QuadraticProblem from a given graph for a MAXCUT instance.\n",
    "    Args:\n",
    "        graph: Underlying graph of the problem\n",
    "    Returns: \n",
    "        QuadraticProblem\n",
    "    '''\n",
    "    # get weight matrix from the graph\n",
    "    weight_matrix = nx.adjacency_matrix(graph)\n",
    "    shape = weight_matrix.shape\n",
    "    size = shape[0]\n",
    "    # build QUBO matrix Q from weight matrix\n",
    "    qubo_matrix = np.zeros((size, size))\n",
    "    qubo_vector = np.zeros(size)\n",
    "    for i in range(size):\n",
    "        for j in range(size):\n",
    "            qubo_matrix[i,j] -= weight_matrix[i, j]\n",
    "            qubo_vector[i] += weight_matrix[i,j]\n",
    "    # define the quadraric program\n",
    "    quadratic_program = QuadraticProgram('maxcut')\n",
    "    for i in range(size):\n",
    "        var_name = 'x_{}'.format(i)\n",
    "        quadratic_program.binary_var(var_name)\n",
    "    quadratic_program.maximize(quadratic=qubo_matrix, linear=qubo_vector, constant=0)\n",
    "    #print(quadratic_program.export_as_lp_string())\n",
    "    return quadratic_program"
   ]
  },
  {
   "cell_type": "code",
   "execution_count": 9,
   "id": "2bb25740-7f1e-4924-9d67-de76e91c8ee5",
   "metadata": {},
   "outputs": [
    {
     "data": {
      "image/png": "[encoded data removed]",
      "text/plain": [
       "<Figure size 432x288 with 1 Axes>"
      ]
     },
     "metadata": {},
     "output_type": "display_data"
    }
   ],
   "source": [
    "graph = nx.Graph()\n",
    "# add nodes and edges\n",
    "graph.add_nodes_from(np.arange(0,6,1))\n",
    "edges = [(0,1,2.0), (0,2,3.0), (0,4,4.0), (0,5,1.0), (1,2,4.0), (1,3,1.0), (1,4,1.0), (1,5,3.0), (2,4,2.0), (2,5,3.0), (3,4,5.0), (3,5,1.0)]\n",
    "graph.add_weighted_edges_from(edges)\n",
    "\n",
    "nx.draw(graph, with_labels=True, alpha=0.8, node_size=500)"
   ]
  },
  {
   "cell_type": "code",
   "execution_count": 12,
   "id": "9e2632f8-80cc-4761-a934-c5cecfea2422",
   "metadata": {},
   "outputs": [
    {
     "name": "stderr",
     "output_type": "stream",
     "text": [
      "/tmp/ipykernel_281/1832690321.py:9: FutureWarning: adjacency_matrix will return a scipy.sparse array instead of a matrix in Networkx 3.0.\n",
      "  weight_matrix = nx.adjacency_matrix(graph)\n"
     ]
    },
    {
     "name": "stdout",
     "output_type": "stream",
     "text": [
      "optimal function value: 23.0\n",
      "optimal value: [1. 0. 1. 1. 0. 0.]\n",
      "status: SUCCESS\n"
     ]
    }
   ],
   "source": [
    "# define backend\n",
    "backend = Aer.get_backend('qasm_simulator')\n",
    "backend.shots = 1024\n",
    "\n",
    "# implement qaoa as an eigen minizizer with qasm_simulator as the simulating backend \n",
    "# using the cobyla classical optimizer\n",
    "qaoa = QAOA(optimizer=COBYLA(), quantum_instance=backend, reps=1, initial_point=[0.0, 0.0])\n",
    "eigen_optimizer = MinimumEigenOptimizer(min_eigen_solver=qaoa)\n",
    "\n",
    "# encode the problem graph as a quadratic program\n",
    "qp = quadratic_program_from_graph(graph)\n",
    "\n",
    "# solve\n",
    "result = eigen_optimizer.solve(qp)\n",
    "print(result)"
   ]
  },
  {
   "cell_type": "markdown",
   "id": "2776525d-a573-4a38-a83a-b8c1159868f5",
   "metadata": {
    "pycharm": {
     "name": "#%% md\n"
    }
   },
   "source": [
    "*Prompt: Would you expect initial point (1,0) or (0,1) to perform better?*\n",
    "\n",
    "Ans: (0, 1) would perform better\n"
   ]
  }
 ],
 "metadata": {
  "kernelspec": {
   "display_name": "Qiskit v0.35.0 (ipykernel)",
   "language": "python",
   "name": "python3"
  },
  "language_info": {
   "codemirror_mode": {
    "name": "ipython",
    "version": 3
   },
   "file_extension": ".py",
   "mimetype": "text/x-python",
   "name": "python",
   "nbconvert_exporter": "python",
   "pygments_lexer": "ipython3",
   "version": "3.8.13"
  },
  "widgets": {
   "application/vnd.jupyter.widget-state+json": {
    "state": {},
    "version_major": 2,
    "version_minor": 0
   }
  }
 },
 "nbformat": 4,
 "nbformat_minor": 5
}
