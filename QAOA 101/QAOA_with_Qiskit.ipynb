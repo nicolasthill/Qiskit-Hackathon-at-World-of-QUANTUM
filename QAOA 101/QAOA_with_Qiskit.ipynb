{
 "cells": [
  {
   "cell_type": "markdown",
   "id": "3616c28a",
   "metadata": {
    "collapsed": false
   },
   "source": [
    "\n",
    "## QAOA with Qiskit\n"
   ]
  },
  {
   "cell_type": "markdown",
   "id": "c5a658b0",
   "metadata": {
    "collapsed": false
   },
   "source": [
    "\n",
    "Qiskit is an open-source SDK for working with quantum computers. [documentation](https://qiskit.org)\n",
    "\n",
    "Qiskit comes with a ready-made class implementing QAOA. The core algorithm is the exact same as we implemented, but has a number of advantages.\n",
    "\n",
    "- it configures its own Ansatz for 2p gamma and beta parameters where p determines depth and thus approximation quality\n",
    "- a custom mixer Hamiltonian can be included to control the quantum annealing"
   ]
  },
  {
   "cell_type": "markdown",
   "id": "061ead51",
   "metadata": {
    "collapsed": false
   },
   "source": [
    "```python\n",
    "CLASS QAOA(optimizer=None, reps=1, initial_state=None, mixer=None, initial_point=None, gradient=None, expectation=None, include_custom=False, max_evals_grouped=1, callback=None, quantum_instance=None)\n",
    "```"
   ]
  },
  {
   "cell_type": "markdown",
   "id": "94b08ff1",
   "metadata": {
    "collapsed": false
   },
   "source": [
    "#### Important parameters:\n",
    "\n",
    "__optimizer__: a classical optimizer\n",
    "\n",
    "__reps__: the integer parameter p\n",
    "\n",
    "__initial_point__: initial parameter values for the optimizer (optional) may be provided as the starting beta and gamma parameters\n",
    "\n",
    "__quantum_instance__ : specify quantum instance or backend\n",
    "\n",
    "Other parameters [here](https://qiskit.org/textbook/ch-applications/qaoa.html)"
   ]
  },
  {
   "cell_type": "markdown",
   "id": "3988a189",
   "metadata": {
    "collapsed": false
   },
   "source": [
    "### MaxCut Implementation using Qiskit"
   ]
  },
  {
   "cell_type": "markdown",
   "id": "1c3fecf7-099e-4753-a36c-2d01815b856b",
   "metadata": {},
   "source": [
    "Using Qiskit's implemetation of QAOA we can solve optimizational problems in just a few lines of code."
   ]
  },
  {
   "cell_type": "code",
   "execution_count": 78,
   "id": "9707cff3-fbe6-42e7-ab0b-cf3362bbefc1",
   "metadata": {},
   "outputs": [],
   "source": [
    "#import the useful modules and optimizers\n",
    "import qiskit\n",
    "from IPython.display import Image\n",
    "import networkx as nx\n",
    "import numpy as np\n",
    "from qiskit import Aer\n",
    "from qiskit.algorithms import QAOA\n",
    "from qiskit_optimization import QuadraticProgram\n",
    "from qiskit.algorithms.optimizers import ADAM, SLSQP, COBYLA\n",
    "from qiskit_optimization.algorithms import MinimumEigenOptimizer\n",
    "\n",
    "from itertools import combinations\n",
    "from random import randrange"
   ]
  },
  {
   "cell_type": "markdown",
   "id": "4c771bc1",
   "metadata": {},
   "source": [
    "The first thing that we need it a graph that encodes out problem, let's choose the number of students and the maximum communication they have among them:"
   ]
  },
  {
   "cell_type": "code",
   "execution_count": 74,
   "id": "e115b6fa",
   "metadata": {},
   "outputs": [
    {
     "data": {
      "image/png": "[encoded data removed]",
      "text/plain": [
       "<Figure size 432x288 with 1 Axes>"
      ]
     },
     "metadata": {},
     "output_type": "display_data"
    }
   ],
   "source": [
    "graph = nx.Graph()\n",
    "\n",
    "# add nodes and edges\n",
    "\n",
    "n_nodes = 6 ### CHOOSE\n",
    "graph.add_nodes_from(np.arange(0,n_nodes,1))\n",
    "\n",
    "max_communication = 10 ### CHOOSE\n",
    "edges = list(combinations(list(range(0, n_nodes)), 2))\n",
    "weighted_edges = list((i[0], i[1], randrange(max_communication)) for i in edges)\n",
    "\n",
    "graph.add_weighted_edges_from(weighted_edges)\n",
    "\n",
    "weights = nx.get_edge_attributes(graph,'weight').values()\n",
    "\n",
    "nx.draw(graph, with_labels=True, alpha=0.8, node_size=500, width=list(weights))"
   ]
  },
  {
   "cell_type": "markdown",
   "id": "a65fa9ec",
   "metadata": {},
   "source": [
    "*Question:  How do you expect the points to be split into two groups?\n",
    "            What points should definitely be in two different categories*\n",
    "\n",
    "Ans:\n",
    "\n",
    "* checks students understanding of the maxcut problem and allows for discussion\n",
    "* solution depends on the generated graph"
   ]
  },
  {
   "cell_type": "markdown",
   "id": "2c5108b6",
   "metadata": {},
   "source": [
    "For the next step we encode the graph into the format that the QAOA algorithm can understand, namely a Quadratic Problem"
   ]
  },
  {
   "cell_type": "code",
   "execution_count": 75,
   "id": "806a37be-a2ba-4f90-82a8-f4fe6bba28ac",
   "metadata": {},
   "outputs": [],
   "source": [
    "def quadratic_program_from_graph(graph: nx.Graph) -> QuadraticProgram:\n",
    "    '''Constructs a QuadraticProblem from a given graph for a MAXCUT instance.\n",
    "    Args:\n",
    "        graph: Underlying graph of the problem\n",
    "    Returns: \n",
    "        QuadraticProblem\n",
    "    '''\n",
    "    # get weight matrix from the graph\n",
    "    weight_matrix = nx.adjacency_matrix(graph)\n",
    "    shape = weight_matrix.shape\n",
    "    size = shape[0]\n",
    "    # build QUBO matrix Q from weight matrix\n",
    "    qubo_matrix = np.zeros((size, size))\n",
    "    qubo_vector = np.zeros(size)\n",
    "    for i in range(size):\n",
    "        for j in range(size):\n",
    "            qubo_matrix[i,j] -= weight_matrix[i, j]\n",
    "            qubo_vector[i] += weight_matrix[i,j]\n",
    "    # define the quadraric program\n",
    "    quadratic_program = QuadraticProgram('maxcut')\n",
    "    for i in range(size):\n",
    "        var_name = 'x_{}'.format(i)\n",
    "        quadratic_program.binary_var(var_name)\n",
    "    quadratic_program.maximize(quadratic=qubo_matrix, linear=qubo_vector, constant=0)\n",
    "    #print(quadratic_program.export_as_lp_string())\n",
    "    return quadratic_program"
   ]
  },
  {
   "cell_type": "code",
   "execution_count": 76,
   "id": "9e2632f8-80cc-4761-a934-c5cecfea2422",
   "metadata": {},
   "outputs": [
    {
     "name": "stdout",
     "output_type": "stream",
     "text": [
      "optimal function value: 24.0\n",
      "optimal value: [1. 0. 0.]\n",
      "status: SUCCESS\n"
     ]
    }
   ],
   "source": [
    "# define backend to simulate quantum circuit\n",
    "backend = Aer.get_backend('qasm_simulator')\n",
    "backend.shots = 1024\n",
    "\n",
    "# implement qaoa as an eigen minizizer with qasm_simulator as the simulating backend \n",
    "# using the cobyla classical optimizer\n",
    "qaoa = QAOA(optimizer=COBYLA(), quantum_instance=backend, reps=1, initial_point=[0.0, 0.0])\n",
    "eigen_optimizer = MinimumEigenOptimizer(min_eigen_solver=qaoa)\n",
    "\n",
    "# encode the problem graph as a quadratic program\n",
    "qp = quadratic_program_from_graph(graph)\n",
    "\n",
    "# solve\n",
    "result = eigen_optimizer.solve(qp)\n",
    "print(result)"
   ]
  },
  {
   "cell_type": "code",
   "execution_count": 77,
   "id": "c384f22c",
   "metadata": {},
   "outputs": [
    {
     "data": {
      "image/png": "[encoded data removed]",
      "text/plain": [
       "<Figure size 432x288 with 1 Axes>"
      ]
     },
     "metadata": {},
     "output_type": "display_data"
    }
   ],
   "source": [
    "# color the nodes according to our result\n",
    "color_map = []\n",
    "for i in result:\n",
    "    if i == 0.0:\n",
    "        color_map.append(\"red\")\n",
    "    else:\n",
    "        color_map.append(\"green\")\n",
    "\n",
    "# draw the graphs\n",
    "nx.draw(graph, node_color = color_map, with_labels=True, alpha=0.8, node_size=500, width=list(weights))"
   ]
  }
 ],
 "metadata": {
  "kernelspec": {
   "display_name": "Qiskit v0.35.0 (ipykernel)",
   "language": "python",
   "name": "python3"
  },
  "language_info": {
   "codemirror_mode": {
    "name": "ipython",
    "version": 3
   },
   "file_extension": ".py",
   "mimetype": "text/x-python",
   "name": "python",
   "nbconvert_exporter": "python",
   "pygments_lexer": "ipython3",
   "version": "3.8.8"
  },
  "widgets": {
   "application/vnd.jupyter.widget-state+json": {
    "state": {},
    "version_major": 2,
    "version_minor": 0
   }
  }
 },
 "nbformat": 4,
 "nbformat_minor": 5
}