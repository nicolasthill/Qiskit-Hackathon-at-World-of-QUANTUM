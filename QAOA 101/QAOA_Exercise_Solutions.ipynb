{
 "cells": [
  {
   "cell_type": "code",
   "execution_count": null,
   "metadata": {
    "collapsed": true
   },
   "outputs": [],
   "source": [
    "#import the useful modules and optimizers\n",
    "import qiskit\n",
    "import networkx as nx\n",
    "import numpy as np\n",
    "from qiskit import Aer\n",
    "from qiskit.algorithms import QAOA\n",
    "from qiskit_optimization import QuadraticProgram\n",
    "from qiskit.algorithms.optimizers import ADAM, SLSQP, COBYLA, NELDER_MEAD\n",
    "from qiskit_optimization.algorithms import MinimumEigenOptimizer"
   ]
  },
  {
   "cell_type": "markdown",
   "metadata": {
    "collapsed": false
   },
   "source": [
    "## Homework Solutions\n",
    "### To test your understanding of QAOA, answer the below questions"
   ]
  },
  {
   "cell_type": "markdown",
   "metadata": {
    "collapsed": false
   },
   "source": [
    "1. What requirements should the cost function satisfy, so that it can be expressed in terms of Hamiltonian?"
   ]
  },
  {
   "cell_type": "markdown",
   "metadata": {
    "collapsed": false
   },
   "source": [
    "Cost function must be written as a QUBO problem (or Ising problem). It means cost function takes binary variables and contains only linear and quadratic terms."
   ]
  },
  {
   "cell_type": "markdown",
   "metadata": {
    "collapsed": false
   },
   "source": [
    "2. What is the fundamental theorem behind QAOA? How is it uilized?"
   ]
  },
  {
   "cell_type": "markdown",
   "metadata": {
    "collapsed": false
   },
   "source": [
    "QAOA takes advantage of adiabatic theorem by simulating the transformation process in small steps."
   ]
  },
  {
   "cell_type": "markdown",
   "metadata": {
    "collapsed": false
   },
   "source": [
    "3. What is the role of parameters $\\gamma$ and $\\beta$?"
   ]
  },
  {
   "cell_type": "markdown",
   "metadata": {
    "collapsed": false
   },
   "source": [
    "These parameters simulate the adiabatic process. They describe the approach that we take to transform the initial system into a system, described by problem Hamiltoninan."
   ]
  },
  {
   "cell_type": "markdown",
   "metadata": {
    "collapsed": false
   },
   "source": [
    "4. Given we have more than one layer in our variational circuit. Would you expect $\\gamma$s to increase or decrease? What about $\\beta$s?"
   ]
  },
  {
   "cell_type": "markdown",
   "metadata": {
    "collapsed": false
   },
   "source": [
    "We would expect betas to decrease and gammas to increase. This reflects the fact that the weight of the problem Hamiltonian should increase and the weight of mixer decrease."
   ]
  },
  {
   "cell_type": "markdown",
   "metadata": {
    "collapsed": false
   },
   "source": [
    "5. Now try to solve a complexer version of MAXCUT problem with 10 vertices."
   ]
  },
  {
   "cell_type": "code",
   "execution_count": null,
   "metadata": {
    "collapsed": false,
    "pycharm": {
     "name": "#%%\n"
    }
   },
   "outputs": [],
   "source": [
    "#You don't need to change this part\n",
    "def quadratic_program_from_graph(graph: nx.Graph) -> QuadraticProgram:\n",
    "    '''Constructs a QuadraticProblem from a given graph for a MAXCUT instance.\n",
    "    Args:\n",
    "        graph: Underlying graph of the problem\n",
    "    Returns:\n",
    "        QuadraticProblem\n",
    "    '''\n",
    "    # get weight matrix from the graph\n",
    "    weight_matrix = nx.adjacency_matrix(graph)\n",
    "    shape = weight_matrix.shape\n",
    "    size = shape[0]\n",
    "    # build QUBO matrix Q from weight matrix\n",
    "    qubo_matrix = np.zeros((size, size))\n",
    "    qubo_vector = np.zeros(size)\n",
    "    for i in range(size):\n",
    "        for j in range(size):\n",
    "            qubo_matrix[i,j] -= weight_matrix[i, j]\n",
    "            qubo_vector[i] += weight_matrix[i,j]\n",
    "    # define the quadraric program\n",
    "    quadratic_program = QuadraticProgram('maxcut')\n",
    "    for i in range(size):\n",
    "        var_name = 'x_{}'.format(i)\n",
    "        quadratic_program.binary_var(var_name)\n",
    "    quadratic_program.maximize(quadratic=qubo_matrix, linear=qubo_vector, constant=0)\n",
    "    #print(quadratic_program.export_as_lp_string())\n",
    "    return quadratic_program"
   ]
  },
  {
   "cell_type": "code",
   "execution_count": null,
   "metadata": {
    "collapsed": false,
    "pycharm": {
     "name": "#%%\n"
    }
   },
   "outputs": [],
   "source": [
    "# You don't need to change this part\n",
    "graph = nx.Graph()\n",
    "graph.add_nodes_from(np.arange(0,10,1))\n",
    "edges = [(0,1,2.0), (0,2,3.0), (0,4,4.0), (0,5,1.0), (1,2,4.0), (1,3,1.0), (1,4,1.0), (1,5,3.0), (2,4,2.0), (2,5,3.0), (3,4,5.0), (3,5,1.0),\n",
    "         (6,2,1.0), (7,4, 3.0), (8,7, 4.0), (9,0, 2.0), (9,6,5.0), (7,3,1.0), (8,9,2.0)]\n",
    "graph.add_weighted_edges_from(edges)\n",
    "\n",
    "weights = nx.get_edge_attributes(graph,'weight').values()\n",
    "\n",
    "nx.draw(graph, with_labels=True, alpha=0.8, node_size=500, width=list(weights))"
   ]
  },
  {
   "cell_type": "markdown",
   "metadata": {
    "collapsed": false
   },
   "source": [
    "You are given a weighted graph like in the problem discussed in the class. Fill in the missing lines of code to find an optimial CUT for this graph. Try out different optimizers, included in the import section. Which of the five optimizers performs the best? Does increasing the number of layers (reps) improve the solution?\n",
    "\n",
    "Try out different starting points."
   ]
  },
  {
   "cell_type": "code",
   "execution_count": null,
   "metadata": {
    "collapsed": false,
    "pycharm": {
     "name": "#%%\n"
    }
   },
   "outputs": [],
   "source": [
    "backend = Aer.get_backend('qasm_simulator')\n",
    "backend.shots = 1024\n",
    "qp = quadratic_program_from_graph(graph)\n",
    "\n",
    "#START YOUR CODE HERE\n",
    "#COBYLA optimizer is the most suited for this problem and delivers the correct solution\n",
    "#one layer (reps=1) is turns out to be sufficient for this problem because introducing\n",
    "#additional layers doesn't improve the solution\n",
    "qaoa = QAOA(optimizer=COBYLA(),quantum_instance=backend, reps=1, initial_point=[0.0, 0.0])\n",
    "eigen_optimizer = MinimumEigenOptimizer(min_eigen_solver=qaoa)\n",
    "result = eigen_optimizer.solve(qp)\n",
    "#END YOUR CODE HERE\n",
    "print(result)"
   ]
  },
  {
   "cell_type": "code",
   "execution_count": null,
   "metadata": {
    "collapsed": false,
    "pycharm": {
     "name": "#%%\n"
    }
   },
   "outputs": [],
   "source": []
  }
 ],
 "metadata": {
  "kernelspec": {
   "display_name": "Python 3",
   "language": "python",
   "name": "python3"
  },
  "language_info": {
   "codemirror_mode": {
    "name": "ipython",
    "version": 2
   },
   "file_extension": ".py",
   "mimetype": "text/x-python",
   "name": "python",
   "nbconvert_exporter": "python",
   "pygments_lexer": "ipython2",
   "version": "2.7.6"
  }
 },
 "nbformat": 4,
 "nbformat_minor": 0
}
